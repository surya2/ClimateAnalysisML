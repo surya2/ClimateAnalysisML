{
 "cells": [
  {
   "cell_type": "code",
   "execution_count": 1,
   "metadata": {},
   "outputs": [],
   "source": [
    "from sklearn.ensemble import RandomForestRegressor\n",
    "import pandas as pd\n",
    "import numpy as np\n",
    "from matplotlib import pyplot as plt\n",
    "from scipy.stats import kendalltau\n",
    "from scipy.stats import spearmanr\n",
    "from scipy.stats import pointbiserialr"
   ]
  },
  {
   "cell_type": "markdown",
   "metadata": {},
   "source": [
    "## Preparing Data"
   ]
  },
  {
   "cell_type": "code",
   "execution_count": 2,
   "metadata": {},
   "outputs": [],
   "source": [
    "import array\n",
    "#EEA CO2, CH4, N2O data\n",
    "Cumulative_GHG_Data = 'Climate Change Analysis/Datasets/Individual Datasets/Necessary Aerosol Datasets/GHG_atmospheric_concentration.csv'\n",
    "GHGcsv = pd.read_csv(Cumulative_GHG_Data)\n",
    "\n",
    "CO2data1 = GHGcsv.CO2_EEA\n",
    "CH4data = GHGcsv.CH4\n",
    "N2Odata = GHGcsv.N2O\n",
    "\n",
    "CH4_ppb = GHGcsv.CH4_ppb\n",
    "N2O_ppb = GHGcsv.N2O_ppb\n",
    "\n",
    "x = GHGcsv.Year\n",
    "features = ['Year', 'time']\n",
    "GHG_X = GHGcsv[features]\n",
    "GHGtime = GHGcsv.time"
   ]
  },
  {
   "cell_type": "code",
   "execution_count": 3,
   "metadata": {},
   "outputs": [],
   "source": [
    "#NASA GISS CO2 data\n",
    "CO2_Comprehensive_Data = 'Climate Change Analysis/Datasets/Stage 1/Gas Concentration/co2_concentration.csv'\n",
    "CO2csv = pd.read_csv(CO2_Comprehensive_Data)\n",
    "\n",
    "CO2data_avg = CO2csv.average\n",
    "CO2data_interpolated = CO2csv.interpolated\n",
    "#CO2data_trended = CO2csv.trended\n",
    "\n",
    "CO2_x = CO2csv.decimal_year\n",
    "CO2features = ['Year', 'time']\n",
    "CO2_X = CO2csv[features]\n",
    "CO2time = CO2csv.timeRelativeTo1750"
   ]
  },
  {
   "cell_type": "code",
   "execution_count": 4,
   "metadata": {},
   "outputs": [],
   "source": [
    "#AFEAS CFC data\n",
    "#If time permitted\n",
    "\n",
    "#CFC11\n",
    "CFC11_Production_Data = 'Climate Change Analysis/Datasets/Individual Datasets/Necessary Aerosol Datasets/CFC11.csv'\n",
    "CFC11csv = pd.read_csv(CFC11_Production_Data)\n",
    "#print(CFC11csv)\n",
    "\n",
    "#CFC12\n",
    "CFC12_Production_Data = 'Climate Change Analysis/Datasets/Individual Datasets/Necessary Aerosol Datasets/CFC12.csv'\n",
    "CFC12csv = pd.read_csv(CFC12_Production_Data)\n",
    "#print(CFC12csv)\n",
    "\n",
    "CFC11data_production = CFC11csv.TotalProduction\n",
    "CFC11data_release = CFC11csv.TotalReleased\n",
    "CFC12data_production = CFC12csv.TotalProduction\n",
    "CFC12data_release = CFC12csv.TotalReleased\n",
    "\n",
    "CFC_x = CFC11csv.Year"
   ]
  },
  {
   "cell_type": "markdown",
   "metadata": {},
   "source": [
    "## Graphical Projections"
   ]
  },
  {
   "cell_type": "markdown",
   "metadata": {},
   "source": [
    "##### Anthropogenic Gas Concentration Graphical Projections"
   ]
  },
  {
   "cell_type": "code",
   "execution_count": 6,
   "metadata": {},
   "outputs": [
    {
     "data": {
      "text/plain": [
       "'#Cumulative GHG trends since 1750\\n# Observation of Correlation between SST and PDI\\nfig, ax1 = plt.subplots()\\nax2 = ax1.twinx()\\n\\nline1, = ax1.plot(x, CO2data1, label=\"Carbon Dioxide Concentration (ppm)\", color=\"y\")\\nline2, = ax2.plot(x, CH4_ppb, label=\"Methane Concentration (ppb)\", color=\"g\")\\nline3, = ax2.plot(x, N2O_ppb, label=\"Nitrous Oxide (ppb)\", color=\"b\")\\n\\ncurves = [line1, line2, line3]\\n\\nax1.legend(curves, [curve.get_label() for curve in curves])\\n\\nplt.title(\\'Increase in Three Key Anthropogenic Gas Emissions (EEA. 1750-2019)\\')\\n#plt.ylabel(\\'Amount of Carbon Dioxide in ppm\\')\\nax1.set_xlabel(\\'Years since 1750\\', color=\\'k\\')\\nax1.set_ylabel(\\'Gas Concentration (Parts per Million)\\', color=\\'y\\')\\nax1.tick_params(axis=\\'y\\', colors=\\'y\\')\\nax2.set_ylabel(\\'Concentration (Parts per Billion)\\', color=\\'g\\')\\nax2.tick_params(axis=\\'y\\', colors=\\'g\\')\\nax1.grid()\\n#plt.legend([\\'Average Temperature Variation\\', \\'Carbon Emissions\\'])\\nplt.show()'"
      ]
     },
     "execution_count": 6,
     "metadata": {},
     "output_type": "execute_result"
    }
   ],
   "source": [
    "'''#Cumulative GHG trends since 1750\n",
    "# Observation of Correlation between SST and PDI\n",
    "fig, ax1 = plt.subplots()\n",
    "ax2 = ax1.twinx()\n",
    "\n",
    "line1, = ax1.plot(x, CO2data1, label=\"Carbon Dioxide Concentration (ppm)\", color=\"y\")\n",
    "line2, = ax2.plot(x, CH4_ppb, label=\"Methane Concentration (ppb)\", color=\"g\")\n",
    "line3, = ax2.plot(x, N2O_ppb, label=\"Nitrous Oxide (ppb)\", color=\"b\")\n",
    "\n",
    "curves = [line1, line2, line3]\n",
    "\n",
    "ax1.legend(curves, [curve.get_label() for curve in curves])\n",
    "\n",
    "plt.title('Increase in Three Key Anthropogenic Gas Emissions (EEA. 1750-2019)')\n",
    "#plt.ylabel('Amount of Carbon Dioxide in ppm')\n",
    "ax1.set_xlabel('Years since 1750', color='k')\n",
    "ax1.set_ylabel('Gas Concentration (Parts per Million)', color='y')\n",
    "ax1.tick_params(axis='y', colors='y')\n",
    "ax2.set_ylabel('Concentration (Parts per Billion)', color='g')\n",
    "ax2.tick_params(axis='y', colors='g')\n",
    "ax1.grid()\n",
    "#plt.legend(['Average Temperature Variation', 'Carbon Emissions'])\n",
    "plt.show()'''"
   ]
  },
  {
   "cell_type": "code",
   "execution_count": 7,
   "metadata": {},
   "outputs": [
    {
     "data": {
      "image/png": "[encoded data removed]",
      "text/plain": [
       "<Figure size 432x288 with 1 Axes>"
      ]
     },
     "metadata": {
      "needs_background": "light"
     },
     "output_type": "display_data"
    },
    {
     "data": {
      "text/plain": [
       "'fig, ax1 = plt.subplots()\\n\\nline1, = ax1.plot(CO2_x[504:], CO2data_interpolated[504:], label=\"Interpolated Average Concentration (ppm)\", color=\"r\")\\nline2, = ax1.plot(CO2_x[504:], CO2data_trended[504:], label=\"Trended Average Concentration (ppm)\", color=\"g\")\\n\\ncurves = [line1, line2]\\n\\nax1.legend(curves, [curve.get_label() for curve in curves])\\n\\nplt.title(\\'Increase in Carbon Dioxide Cocentration (NASA/GISS. 2000-2019)\\')\\n#plt.ylabel(\\'Amount of Carbon Dioxide in ppm\\')\\nax1.set_xlabel(\\'Years since 1958\\', color=\\'k\\')\\nax1.set_ylabel(\\'Gas Concentration (Parts per Million)\\', color=\\'k\\')\\nax1.tick_params(axis=\\'y\\', colors=\\'k\\')\\nax1.grid()\\n#plt.legend([\\'Average Temperature Variation\\', \\'Carbon Emissions\\'])\\nplt.show()'"
      ]
     },
     "execution_count": 7,
     "metadata": {},
     "output_type": "execute_result"
    }
   ],
   "source": [
    "#NASA/GISS CO2 trends since 1958\n",
    "fig, ax1 = plt.subplots()\n",
    "\n",
    "line1, = ax1.plot(CO2_x, CO2data_interpolated, label=\"Interpolated Average Concentration (ppm)\", color=\"r\")\n",
    "\n",
    "curves = [line1]\n",
    "\n",
    "ax1.legend(curves, [curve.get_label() for curve in curves])\n",
    "\n",
    "plt.title('Increase in Carbon Dioxide Cocentration (NASA/GISS. 1958-2019)')\n",
    "#plt.ylabel('Amount of Carbon Dioxide in ppm')\n",
    "ax1.set_xlabel('Years since 1958', color='k')\n",
    "ax1.set_ylabel('Gas Concentration (Parts per Million)', color='k')\n",
    "ax1.tick_params(axis='y', colors='k')\n",
    "ax1.grid()\n",
    "#plt.legend(['Average Temperature Variation', 'Carbon Emissions'])\n",
    "plt.show()\n",
    "\n",
    "'''fig, ax1 = plt.subplots()\n",
    "\n",
    "line1, = ax1.plot(CO2_x[504:], CO2data_interpolated[504:], label=\"Interpolated Average Concentration (ppm)\", color=\"r\")\n",
    "line2, = ax1.plot(CO2_x[504:], CO2data_trended[504:], label=\"Trended Average Concentration (ppm)\", color=\"g\")\n",
    "\n",
    "curves = [line1, line2]\n",
    "\n",
    "ax1.legend(curves, [curve.get_label() for curve in curves])\n",
    "\n",
    "plt.title('Increase in Carbon Dioxide Cocentration (NASA/GISS. 2000-2019)')\n",
    "#plt.ylabel('Amount of Carbon Dioxide in ppm')\n",
    "ax1.set_xlabel('Years since 1958', color='k')\n",
    "ax1.set_ylabel('Gas Concentration (Parts per Million)', color='k')\n",
    "ax1.tick_params(axis='y', colors='k')\n",
    "ax1.grid()\n",
    "#plt.legend(['Average Temperature Variation', 'Carbon Emissions'])\n",
    "plt.show()'''"
   ]
  },
  {
   "cell_type": "code",
   "execution_count": 10,
   "metadata": {},
   "outputs": [
    {
     "data": {
      "image/png": "[encoded data removed]",
      "text/plain": [
       "<Figure size 432x288 with 1 Axes>"
      ]
     },
     "metadata": {
      "needs_background": "light"
     },
     "output_type": "display_data"
    },
    {
     "data": {
      "text/plain": [
       "'fig, ax1 = plt.subplots()\\n\\nline1, = ax1.plot(x[60:], CO2data1[60:], label=\"EEA Cumulative Carbon Dioxide Concentration (ppm)\", color=\"y\")\\nline2, = ax1.plot(CO2_x[504:], CO2data_interpolated[504:], label=\"GISS Interpolated Average Concentration (ppm)\", color=\"r\")\\n#line3, = ax1.plot(CO2_x[504:], CO2data_trended[504:], label=\"GISS Trended Average Concentration (ppm)\", color=\"g\")\\n\\ncurves = [line1, line2]\\n\\nax1.legend(curves, [curve.get_label() for curve in curves])\\n\\nplt.title(\\'Overall Carbon Dioxide Concentration (2000-2019)\\')\\n#plt.ylabel(\\'Amount of Carbon Dioxide in ppm\\')\\nax1.set_xlabel(\\'Years since 1750\\', color=\\'k\\')\\nax1.set_ylabel(\\'Gas Concentration (Parts per Million)\\', color=\\'k\\')\\nax1.tick_params(axis=\\'y\\', colors=\\'k\\')\\nax1.grid()\\n#plt.legend([\\'Average Temperature Variation\\', \\'Carbon Emissions\\'])\\nplt.show()'"
      ]
     },
     "execution_count": 10,
     "metadata": {},
     "output_type": "execute_result"
    }
   ],
   "source": [
    "#Overall CO2 trends since 1750\n",
    "fig, ax1 = plt.subplots()\n",
    "\n",
    "line1, = ax1.plot(x, CO2data1, label=\"EEA Cumulative Carbon Dioxide Concentration (ppm)\", color=\"y\")\n",
    "#ine2, = ax1.plot(CO2_x, CO2data_interpolated, label=\"GISS Interpolated Average Concentration (ppm)\", color=\"r\")\n",
    "#line3, = ax1.plot(CO2_x, CO2data_interpolated, label=\"GISS Interpolated Average Concentration (ppm)\", color=\"g\")\n",
    "\n",
    "curves = [line1]\n",
    "\n",
    "ax1.legend(curves, [curve.get_label() for curve in curves])\n",
    "\n",
    "plt.title('Overall Carbon Dioxide Concentration (1750-2019)')\n",
    "#plt.ylabel('Amount of Carbon Dioxide in ppm')\n",
    "ax1.set_xlabel('Years since 1750', color='k')\n",
    "ax1.set_ylabel('Gas Concentration (Parts per Million)', color='k')\n",
    "ax1.tick_params(axis='y', colors='k')\n",
    "ax1.grid()\n",
    "#plt.legend(['Average Temperature Variation', 'Carbon Emissions'])\n",
    "plt.show()\n",
    "\n",
    "'''fig, ax1 = plt.subplots()\n",
    "\n",
    "line1, = ax1.plot(x[60:], CO2data1[60:], label=\"EEA Cumulative Carbon Dioxide Concentration (ppm)\", color=\"y\")\n",
    "line2, = ax1.plot(CO2_x[504:], CO2data_interpolated[504:], label=\"GISS Interpolated Average Concentration (ppm)\", color=\"r\")\n",
    "#line3, = ax1.plot(CO2_x[504:], CO2data_trended[504:], label=\"GISS Trended Average Concentration (ppm)\", color=\"g\")\n",
    "\n",
    "curves = [line1, line2]\n",
    "\n",
    "ax1.legend(curves, [curve.get_label() for curve in curves])\n",
    "\n",
    "plt.title('Overall Carbon Dioxide Concentration (2000-2019)')\n",
    "#plt.ylabel('Amount of Carbon Dioxide in ppm')\n",
    "ax1.set_xlabel('Years since 1750', color='k')\n",
    "ax1.set_ylabel('Gas Concentration (Parts per Million)', color='k')\n",
    "ax1.tick_params(axis='y', colors='k')\n",
    "ax1.grid()\n",
    "#plt.legend(['Average Temperature Variation', 'Carbon Emissions'])\n",
    "plt.show()'''"
   ]
  },
  {
   "cell_type": "code",
   "execution_count": 44,
   "metadata": {},
   "outputs": [],
   "source": [
    "#Overall Anthropogenic Gas Trends since 1750"
   ]
  },
  {
   "cell_type": "markdown",
   "metadata": {},
   "source": [
    "##### Anthropogenic Aerosol Concentration Projections"
   ]
  },
  {
   "cell_type": "code",
   "execution_count": 12,
   "metadata": {},
   "outputs": [
    {
     "data": {
      "text/plain": [
       "'fig, ax1 = plt.subplots()\\n\\nline1, = ax1.plot(CFC_x, CFC11data_release, label=\"CFC 11 Total Release (tonnes)\", color=\"c\")\\nline2, = ax1.plot(CFC_x, CFC12data_release, label=\"CFC 12 Total Release (tonnes)\", color=\"m\")\\n\\ncurves = [line1, line2]\\n\\nax1.legend(curves, [curve.get_label() for curve in curves])\\nplt.title(\\'Increase in Chlorofluorocarbon Emissions (AFEAS. 1931-2019)\\')\\n#plt.ylabel(\\'Amount of Carbon Dioxide in ppm\\')\\nax1.set_xlabel(\\'Years since 1931\\', color=\\'k\\')\\nax1.set_ylabel(\\'Gas Concentration (Metric Tonnes)\\', color=\\'k\\')\\nax1.tick_params(axis=\\'y\\', colors=\\'k\\')\\nax1.grid()\\n#plt.legend([\\'Average Temperature Variation\\', \\'Carbon Emissions\\'])\\nplt.show()'"
      ]
     },
     "execution_count": 12,
     "metadata": {},
     "output_type": "execute_result"
    }
   ],
   "source": [
    "#CFC Release Trends Since 1931\n",
    "'''fig, ax1 = plt.subplots()\n",
    "\n",
    "line1, = ax1.plot(CFC_x, CFC11data_release, label=\"CFC 11 Total Release (tonnes)\", color=\"c\")\n",
    "line2, = ax1.plot(CFC_x, CFC12data_release, label=\"CFC 12 Total Release (tonnes)\", color=\"m\")\n",
    "\n",
    "curves = [line1, line2]\n",
    "\n",
    "ax1.legend(curves, [curve.get_label() for curve in curves])\n",
    "plt.title('Increase in Chlorofluorocarbon Emissions (AFEAS. 1931-2019)')\n",
    "#plt.ylabel('Amount of Carbon Dioxide in ppm')\n",
    "ax1.set_xlabel('Years since 1931', color='k')\n",
    "ax1.set_ylabel('Gas Concentration (Metric Tonnes)', color='k')\n",
    "ax1.tick_params(axis='y', colors='k')\n",
    "ax1.grid()\n",
    "#plt.legend(['Average Temperature Variation', 'Carbon Emissions'])\n",
    "plt.show()'''"
   ]
  },
  {
   "cell_type": "markdown",
   "metadata": {},
   "source": [
    "## Creating New Dataset Values"
   ]
  },
  {
   "cell_type": "markdown",
   "metadata": {},
   "source": [
    "### Entropy of Anthropogenic Emissions in Upper Troposhphere and Lower Stratosphere"
   ]
  },
  {
   "cell_type": "markdown",
   "metadata": {},
   "source": [
    "###### Entropy of CFC in Isothermal Stratospheric System"
   ]
  },
  {
   "cell_type": "code",
   "execution_count": 16,
   "metadata": {},
   "outputs": [],
   "source": [
    "import math\n",
    "# P2 (kPa) = 22.65e ^ (1.73 - (0.000157 * 11,000 m))\n",
    "# pstrat = pressure of stratosphere\n",
    "# z = average height of CFC\n",
    "\n",
    "# All pressure measurements n in kilopascals\n",
    "\n",
    "z = 18000\n",
    "e = math.e\n",
    "pstrat = 22.65*(e)**(1.73 - (0.000157 * z))\n",
    "ptrop = 22.68"
   ]
  },
  {
   "cell_type": "code",
   "execution_count": 17,
   "metadata": {},
   "outputs": [],
   "source": [
    "#Entropy of Isothermal (stratospheric) system\n",
    "\n",
    "r = 8.314 #gas pressure constant Joules/molK for kPa\n",
    "\n",
    "CFC11array = CFC11data_release.to_numpy()\n",
    "CFC12array = CFC12data_release.to_numpy()\n",
    "\n",
    "cfc11mm = 137.37 #molar mass\n",
    "cfc12mm = 120.91\n",
    "\n",
    "cfc11mol = list()\n",
    "cfc12mol = list()\n",
    "for i in CFC11array:\n",
    "    gram = i * (math.pow(10, 6))\n",
    "    cfc11mol.append(gram/(cfc11mm))\n",
    "    \n",
    "for o in CFC12array:\n",
    "    gramm = o * (math.pow(10, 6))\n",
    "    cfc12mol.append(gramm/(cfc12mm))\n",
    "    \n",
    "cfcmol = list() # combined moles of both gases\n",
    "for p in range(len(cfc11mol)):\n",
    "    combined = cfc11mol[p] + cfc12mol[p]\n",
    "    cfcmol.append(combined)\n",
    "\n",
    "cfcEntropy = list()\n",
    "for a in cfcmol:\n",
    "    cfcEntropy.append((a*r)*math.log(101.29/pstrat))\n",
    "    \n",
    "#print(cfcEntropy)"
   ]
  },
  {
   "cell_type": "markdown",
   "metadata": {},
   "source": [
    "###### Entropy of CO2 in reversible adiabatic thermal expansion environment of Troposphere"
   ]
  },
  {
   "cell_type": "code",
   "execution_count": 18,
   "metadata": {},
   "outputs": [
    {
     "name": "stdout",
     "output_type": "stream",
     "text": [
      "[315.241     315.9741667 316.9075    317.6375    318.4508333 318.9941667\n",
      " 319.6175    320.0441667 321.3833333 322.1575    323.045     324.6241667\n",
      " 325.68      326.32      327.4533333 329.6766667 330.1841667 331.115\n",
      " 332.04      333.8316667 335.4033333 336.8416667 338.6258333 340.105\n",
      " 341.4475    343.0541667 344.6508333 346.0175    347.42      349.1941667\n",
      " 351.5666667 353.1208333 354.3941667 355.6075    356.4458333 357.1\n",
      " 358.8325    360.82      362.6066667 363.7291667 366.7       368.3775\n",
      " 369.5491667 371.1433333 373.2791667 375.8016667 377.5225    379.7958333\n",
      " 381.8958333 383.7916667 385.6041667 387.43      389.8991667 391.6525\n",
      " 393.8533333 396.5208333 398.6475    400.8341667 404.2391667 406.5533333\n",
      " 408.5216667 411.524    ]\n"
     ]
    }
   ],
   "source": [
    "co2 = CO2data_interpolated[:62].to_numpy()\n",
    "print(co2)"
   ]
  },
  {
   "cell_type": "code",
   "execution_count": 19,
   "metadata": {},
   "outputs": [],
   "source": [
    "# according to Clark. W. C., 1 ppm C = 2.31 Gt C\n",
    "co2Gram = list()\n",
    "for i in co2:\n",
    "    gt = i * 2.31\n",
    "    g = gt * (math.pow(10, 15))\n",
    "    co2Gram.append(\"{:.2e}\".format(g))\n",
    "\n",
    "co2mol = list()\n",
    "for o in co2Gram:\n",
    "    co2mol.append(float(o)/44.01)\n",
    "    \n",
    "#len(co2mol)\n",
    "#print(co2mol)"
   ]
  },
  {
   "cell_type": "code",
   "execution_count": 50,
   "metadata": {},
   "outputs": [],
   "source": [
    "sstNew = './sstNew.csv'\n",
    "sst = pd.read_csv(sstNew)\n",
    "sst = sst.iloc[:,1]"
   ]
  },
  {
   "cell_type": "code",
   "execution_count": 63,
   "metadata": {},
   "outputs": [
    {
     "name": "stdout",
     "output_type": "stream",
     "text": [
      "[2.3005153391183405e+17, 2.3068354362038304e+17, 2.3133338198413616e+17, 2.319892806417861e+17, 2.3260816821458826e+17, 2.3291629055311e+17, 2.332323235117981e+17, 2.3352639251924195e+17, 2.344744022317693e+17, 2.3510640870678755e+17, 2.3570889864270176e+17, 2.369936413789479e+17, 2.376256244226251e+17, 2.3826788977521642e+17, 2.3889990009292256e+17, 2.4077842218030336e+17, 2.4109440436164234e+17, 2.4172636872432032e+17, 2.4234151311969347e+17, 2.4360535412683658e+17, 2.4496880426315574e+17, 2.4586767510408938e+17, 2.4704896315641226e+17, 2.4831264071731466e+17, 2.4926765566530195e+17, 2.5021004957391648e+17, 2.5148328439384266e+17, 2.52465815018146e+17, 2.5372479860755312e+17, 2.5498868303399178e+17, 2.5662087079346234e+17, 2.5788501301411984e+17, 2.5882457037915453e+17, 2.594005236767996e+17, 2.6003243725457498e+17, 2.606643508323504e+17, 2.619281779879012e+17, 2.6319200514345197e+17, 2.64849554504459e+17, 2.6548165367988733e+17, 2.6769400079388637e+17, 2.6898304790239418e+17, 2.6989895621244163e+17, 2.708470790094408e+17, 2.7242728367110618e+17, 2.743235292651046e+17, 2.7568907627580086e+17, 2.772440776780836e+17, 2.7886912901517328e+17, 2.805121325685825e+17, 2.8175367522882454e+17, 2.8299098078730333e+17, 2.8488754682662266e+17, 2.8612281947887763e+17, 2.8781038247196275e+17, 2.897080333454043e+17, 2.912894090732722e+17, 2.9287078480114016e+17, 2.953232776869142e+17, 2.969402734905798e+17, 2.9852301118936806e+17, 3.00736635213018e+17]\n"
     ]
    }
   ],
   "source": [
    "# Heat capacity of Carbon Dioxide at constant volume = 28.2 J/K\n",
    "\n",
    "co2entropy = list()\n",
    "for s in sst:\n",
    "    co2entropy.append((28.2 * math.log(((float(s) + 273) - (0.0065 * 11000)) / (float(s) + 273))) + (r * math.log(101.29/pstrat)))\n",
    "\n",
    "#print(len(co2entropy))\n",
    "\n",
    "co2entropyFinal = list()\n",
    "for x in range(len(co2mol)):\n",
    "    co2entropyFinal.append(co2mol[x] * co2entropy[x])\n",
    "    \n",
    "print(co2entropyFinal)\n",
    "pd.DataFrame(co2entropyFinal).to_csv(\"./entropy.csv\")"
   ]
  },
  {
   "cell_type": "code",
   "execution_count": 66,
   "metadata": {},
   "outputs": [
    {
     "data": {
      "text/plain": [
       "2.8488754682662266e+17"
      ]
     },
     "execution_count": 66,
     "metadata": {},
     "output_type": "execute_result"
    }
   ],
   "source": [
    "co2entropyFinal[52]"
   ]
  },
  {
   "cell_type": "code",
   "execution_count": null,
   "metadata": {},
   "outputs": [],
   "source": []
  }
 ],
 "metadata": {
  "kernelspec": {
   "display_name": "Python 3",
   "language": "python",
   "name": "python3"
  },
  "language_info": {
   "codemirror_mode": {
    "name": "ipython",
    "version": 3
   },
   "file_extension": ".py",
   "mimetype": "text/x-python",
   "name": "python",
   "nbconvert_exporter": "python",
   "pygments_lexer": "ipython3",
   "version": "3.6.10"
  }
 },
 "nbformat": 4,
 "nbformat_minor": 2
}
