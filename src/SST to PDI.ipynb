{
 "cells": [
  {
   "cell_type": "code",
   "execution_count": 1,
   "metadata": {},
   "outputs": [],
   "source": [
    "from sklearn.ensemble import GradientBoostingRegressor\n",
    "from sklearn.ensemble import RandomForestRegressor\n",
    "#import xgboost as xgb\n",
    "import pandas as pd\n",
    "import numpy as np\n",
    "from matplotlib import pyplot as plt\n",
    "from scipy.stats import kendalltau\n",
    "from scipy.stats import spearmanr\n",
    "from scipy.stats import pointbiserialr\n",
    "import math"
   ]
  },
  {
   "cell_type": "markdown",
   "metadata": {},
   "source": [
    "## Preparing Data"
   ]
  },
  {
   "cell_type": "markdown",
   "metadata": {},
   "source": [
    "#### Air - Sea Flux Data "
   ]
  },
  {
   "cell_type": "code",
   "execution_count": 2,
   "metadata": {},
   "outputs": [],
   "source": [
    "data = 'Climate Change Analysis/Datasets/Stage 2/Air-Sea_Flux_to_Atlantic_Cyclone.csv'\n",
    "cycloneData = pd.read_csv(data)\n",
    "#print(cycloneData)"
   ]
  },
  {
   "cell_type": "code",
   "execution_count": 3,
   "metadata": {},
   "outputs": [],
   "source": [
    "pdi = cycloneData.PDI\n",
    "#print(pdi)\n",
    "#print(' ')\n",
    "x = cycloneData.Year\n",
    "features = ['Year', 'time']\n",
    "X = cycloneData[features]\n",
    "#print(X)"
   ]
  },
  {
   "cell_type": "code",
   "execution_count": 4,
   "metadata": {},
   "outputs": [],
   "source": [
    "sst = cycloneData.SST\n",
    "#print(sst)\n"
   ]
  },
  {
   "cell_type": "markdown",
   "metadata": {},
   "source": [
    "#### Hurricane Data"
   ]
  },
  {
   "cell_type": "code",
   "execution_count": 5,
   "metadata": {},
   "outputs": [],
   "source": [
    "data2 = 'Climate Change Analysis/Datasets/Stage 2/Atlantic_Hurricane_Data.csv'\n",
    "stormData = pd.read_csv(data2)\n",
    "#print(stormData)\n",
    "aceYear = stormData.Year"
   ]
  },
  {
   "cell_type": "code",
   "execution_count": 6,
   "metadata": {},
   "outputs": [],
   "source": [
    "namedStorms = stormData.Named_Storms\n",
    "#print(namedStorms)\n",
    "#print(' ')\n",
    "x1 = stormData.Year\n",
    "features = ['Year', 'time']\n",
    "X1 = stormData[features]\n",
    "#print(X1)"
   ]
  },
  {
   "cell_type": "code",
   "execution_count": 7,
   "metadata": {},
   "outputs": [],
   "source": [
    "ace = stormData.ACE"
   ]
  },
  {
   "cell_type": "markdown",
   "metadata": {},
   "source": [
    "## Machine Learning - Regression Model"
   ]
  },
  {
   "cell_type": "code",
   "execution_count": 8,
   "metadata": {},
   "outputs": [],
   "source": [
    "emission_model = GradientBoostingRegressor(random_state=1)\n",
    "from sklearn.metrics import mean_absolute_error\n",
    "from sklearn.model_selection import train_test_split\n",
    "\n",
    "class regression:\n",
    "        \n",
    "    def predict(self, X, y, pred):\n",
    "        emission_model.fit(X, y)\n",
    "        print(X.head())\n",
    "        print(\"Predictions: \")\n",
    "        print(emission_model.predict(pred))\n",
    "        train_pred = emission_model.predict(pred)\n",
    "    \n",
    "        #print(high_price_model.predict(108.000, 3477599.0))\n",
    "        training_predictions = pd.DataFrame({'predictions': train_pred})\n",
    "        #firstPred = cycloneData.join(training_predictions)\n",
    "        #print(cycloneData.join(training_predictions))\n",
    "        print(training_predictions)\n",
    "\n",
    "        #print(\"Prediction Error: \")\n",
    "        #mean_absolute_error(y, train_pred)\n",
    "        \n",
    "    def validate(self, X, y, mln):\n",
    "        train_x, val_x, train_y, val_y = train_test_split(X, y, random_state = 0)\n",
    "        validation_model = RandomForestRegressor()\n",
    "        validation_model.fit(train_x, train_y)\n",
    "        mean_absolute_error(val_y, validation_model.predict(val_x))\n",
    "        \n",
    "        fitting_model = GradientBoostingRegressor(max_leaf_nodes = mln, random_state = 0)\n",
    "        fitting_model.fit(train_x, train_y) \n",
    "        mae = mean_absolute_error(val_y, fitting_model.predict(val_x))\n",
    "        return(str(mae))\n",
    "    \n",
    "class check_Least:\n",
    "    def __init__(self):\n",
    "        self.least = 111111111111111111111111111111111111111111111111111110\n",
    "    def iteration(self, m): \n",
    "        for x in m:\n",
    "            #for i in candidate_max_leaf_nodes:\n",
    "                if(x <= self.least):\n",
    "                    self.least = x\n",
    "                else:\n",
    "                    continue\n",
    "        return(m.index(self.least))\n",
    "        "
   ]
  },
  {
   "cell_type": "code",
   "execution_count": 9,
   "metadata": {},
   "outputs": [],
   "source": [
    "model = regression()\n",
    "checkFit = check_Least()"
   ]
  },
  {
   "cell_type": "markdown",
   "metadata": {},
   "source": [
    "## Graphical Relationship"
   ]
  },
  {
   "cell_type": "code",
   "execution_count": 10,
   "metadata": {},
   "outputs": [
    {
     "data": {
      "text/plain": [
       "'# Observation of Correlation between SST and PDI\\nfig, ax1 = plt.subplots()\\nax2 = ax1.twinx()\\n\\n\\nline1, = ax1.plot(x, pdi, label=\"Atlantic MDR Sea Surface Temperature (°C)\", color=\"r\")\\nline2, = ax2.plot(x, sst, label=\"Cyclone Power Dissipation (m^3 / s^2)\", color=\"g\")\\n\\ncurves = [line1, line2]\\n\\nax1.legend(curves, [curve.get_label() for curve in curves])\\n\\nplt.title(\\'Relationship Between Atlantic Sea Surface Tempratures and Cyclone Power Dissipation Intensity\\')\\n#plt.ylabel(\\'Amount of Carbon Dioxide in ppm\\')\\nax1.set_xlabel(\\'Years since 1949\\', color=\\'b\\')\\nax1.set_ylabel(\\'Atlantic MDR Sea Surface Temperature (°C)\\', color=\\'r\\')\\nax1.tick_params(axis=\\'y\\', colors=\\'r\\')\\nax2.set_ylabel(\\'Power Dissipation (10^10 m^3 / s^2)\\', color=\\'g\\')\\nax2.tick_params(axis=\\'y\\', colors=\\'g\\')\\nax1.grid()\\n#plt.legend([\\'Average Temperature Variation\\', \\'Carbon Emissions\\'])\\nplt.show()'"
      ]
     },
     "execution_count": 10,
     "metadata": {},
     "output_type": "execute_result"
    }
   ],
   "source": [
    "'''# Observation of Correlation between SST and PDI\n",
    "fig, ax1 = plt.subplots()\n",
    "ax2 = ax1.twinx()\n",
    "\n",
    "\n",
    "line1, = ax1.plot(x, pdi, label=\"Atlantic MDR Sea Surface Temperature (°C)\", color=\"r\")\n",
    "line2, = ax2.plot(x, sst, label=\"Cyclone Power Dissipation (m^3 / s^2)\", color=\"g\")\n",
    "\n",
    "curves = [line1, line2]\n",
    "\n",
    "ax1.legend(curves, [curve.get_label() for curve in curves])\n",
    "\n",
    "plt.title('Relationship Between Atlantic Sea Surface Tempratures and Cyclone Power Dissipation Intensity')\n",
    "#plt.ylabel('Amount of Carbon Dioxide in ppm')\n",
    "ax1.set_xlabel('Years since 1949', color='b')\n",
    "ax1.set_ylabel('Atlantic MDR Sea Surface Temperature (°C)', color='r')\n",
    "ax1.tick_params(axis='y', colors='r')\n",
    "ax2.set_ylabel('Power Dissipation (10^10 m^3 / s^2)', color='g')\n",
    "ax2.tick_params(axis='y', colors='g')\n",
    "ax1.grid()\n",
    "#plt.legend(['Average Temperature Variation', 'Carbon Emissions'])\n",
    "plt.show()'''"
   ]
  },
  {
   "cell_type": "code",
   "execution_count": 11,
   "metadata": {},
   "outputs": [
    {
     "data": {
      "text/plain": [
       "\"pdiArray = pdi.to_numpy()\\nsstArray = sst.to_numpy()\\nprint(pdiArray, sstArray)\\n# calculate spearman's correlation\\ncorrSpear, _ = spearmanr(pdiArray[:60], sstArray[:60])\\ncorrKendal, _ = kendalltau(pdiArray[:60], sstArray[:60])\\ncorrBiserial, _ = pointbiserialr(pdiArray[:60], sstArray[:60])\\nprint('Spearman correlation (most favorable): %.3f' % corrSpear + ' *')\\nprint('Kendal correlation: %.3f' % corrKendal)\\nprint('Point Biserial correlation: %.3f' % corrKendal)\""
      ]
     },
     "execution_count": 11,
     "metadata": {},
     "output_type": "execute_result"
    }
   ],
   "source": [
    "'''pdiArray = pdi.to_numpy()\n",
    "sstArray = sst.to_numpy()\n",
    "print(pdiArray, sstArray)\n",
    "# calculate spearman's correlation\n",
    "corrSpear, _ = spearmanr(pdiArray[:60], sstArray[:60])\n",
    "corrKendal, _ = kendalltau(pdiArray[:60], sstArray[:60])\n",
    "corrBiserial, _ = pointbiserialr(pdiArray[:60], sstArray[:60])\n",
    "print('Spearman correlation (most favorable): %.3f' % corrSpear + ' *')\n",
    "print('Kendal correlation: %.3f' % corrKendal)\n",
    "print('Point Biserial correlation: %.3f' % corrKendal)'''"
   ]
  },
  {
   "cell_type": "markdown",
   "metadata": {},
   "source": [
    "## Creating New Dataset Values"
   ]
  },
  {
   "cell_type": "markdown",
   "metadata": {},
   "source": [
    "##### Maximum Wind Speed (Poetential Intensity) - V max"
   ]
  },
  {
   "cell_type": "code",
   "execution_count": 21,
   "metadata": {},
   "outputs": [
    {
     "data": {
      "image/png": "[encoded data removed]",
      "text/plain": [
       "<Figure size 432x288 with 2 Axes>"
      ]
     },
     "metadata": {
      "needs_background": "light"
     },
     "output_type": "display_data"
    }
   ],
   "source": [
    "## ACE = Σ(n|0)(V^2 max) * 10^-4 every 6 hour intervals\n",
    "## V^2 max = maximum wind speed\n",
    "## V max = (ACE * 10^4)^1/2 / n\n",
    "\n",
    "namedStormsArray = namedStorms.to_numpy()\n",
    "aceArray = ace.to_numpy()\n",
    "arrayLength = len(aceArray)\n",
    "\n",
    "vMax = list()\n",
    "vMaxAvg = list()\n",
    "for i in range(arrayLength):\n",
    "    vMax.append(math.sqrt((aceArray[i] * (10**4))))\n",
    "    vMaxAvg.append(math.sqrt((aceArray[i] * (10**4)) / namedStormsArray[i]))\n",
    "    \n",
    "vMaxKM = list()\n",
    "vMaxKMavg =  list()\n",
    "for i in range(arrayLength):\n",
    "    vMaxKM.append(vMax[i] * 1.852)\n",
    "    vMaxKMavg.append(vMaxAvg[i] * 1.852)\n",
    "    \n",
    "pd.DataFrame(vMaxKM).to_csv(\"./PI.csv\")\n",
    "\n",
    "#print(vMax)\n",
    "#print(vMaxAvg)\n",
    "\n",
    "# Observation of Relation between CO2 entropy and PDI\n",
    "\n",
    "\n",
    "fig, ax1 = plt.subplots()\n",
    "ax2 = ax1.twinx()\n",
    "\n",
    "line1, = ax1.plot(aceYear, vMaxKM, label=\"Maximum Annual Sustained Wind Speeds - km/h\", color=\"r\")\n",
    "#line2, = ax2.plot(year[105:], fluxRefined[106:], label=\"Net Heat Flux into Ocean\", color=\"g\")\n",
    "#line3, = ax2.plot(fyear[79:], forcing[79:], label=\"Net Radiative Forcing\", color=\"y\")\n",
    "#line4, = ax2.plot(aceYear, vMaxAvg, label=\"Net Heat Flux into Ocean\", color=\"y\")\n",
    "\n",
    "\n",
    "curves = [line1]\n",
    "\n",
    "ax1.legend(curves, [curve.get_label() for curve in curves])\n",
    "\n",
    "plt.title('Maximum Sustained Windspeeds (Potential Intensity) per Year')\n",
    "#plt.ylabel('Amount of Carbon Dioxide in ppm')\n",
    "ax1.set_xlabel('Years since 1850', color='k')\n",
    "ax1.set_ylabel('Potential Intensity (vMax) km/h', color='r')\n",
    "ax1.tick_params(axis='y', colors='r')\n",
    "#ax2.set_ylabel('Climate Forcing (W/m^2)', color='g')\n",
    "#ax2.tick_params(axis='y', colors='g')\n",
    "ax1.grid()\n",
    "#plt.legend(['Average Temperature Variation', 'Carbon Emissions'])\n",
    "plt.show()"
   ]
  },
  {
   "cell_type": "code",
   "execution_count": 22,
   "metadata": {},
   "outputs": [],
   "source": [
    "#pd.DataFrame(vMax).to_csv(\"./PI.csv\")"
   ]
  },
  {
   "cell_type": "markdown",
   "metadata": {},
   "source": [
    "##### Central Pressure in kPa"
   ]
  },
  {
   "cell_type": "code",
   "execution_count": 23,
   "metadata": {},
   "outputs": [
    {
     "data": {
      "image/png": "[encoded data removed]",
      "text/plain": [
       "<Figure size 432x288 with 2 Axes>"
      ]
     },
     "metadata": {
      "needs_background": "light"
     },
     "output_type": "display_data"
    }
   ],
   "source": [
    "## Convert V max values in knots to km/h\n",
    "    \n",
    "#df.insert(5, \"Max_Wind_Speed\", vMaxKM, True)\n",
    "    \n",
    "## Central Hurricane Pressure\n",
    "#V max (km/h) = (1010 - PO)^1/2 x ~K*\n",
    "#PO = (V max / K*)^2 - 1010 / -1\n",
    "#PO = central pressure; 1010 - outside pressure; K* is constant ~ 21.42\n",
    "\n",
    "central_kPa = list()\n",
    "centralAvg_kPa = list()\n",
    "\n",
    "for m in range(arrayLength):\n",
    "    central_kPa.append((((vMaxKM[m] / 21.42)**2) - 1010) / -1)\n",
    "    centralAvg_kPa.append((((vMaxKMavg[m] / 21.42)**2) - 1010) / -1)\n",
    "    \n",
    "Stage2_data = pd.DataFrame({'Year': x1,'SST': sst, 'Potential Intensity': vMaxKM, 'Central Pressure': central_kPa})\n",
    "df = pd.DataFrame(Stage2_data)   \n",
    "#df.insert(6, \"Central_Pressure\", central_kPa, True)     \n",
    "#print(central_kPa)\n",
    "#rint(centralAvg_kPa)\n",
    "#print(df)\n",
    "\n",
    "fig, ax1 = plt.subplots()\n",
    "ax2 = ax1.twinx()\n",
    "\n",
    "line1, = ax1.plot(aceYear, central_kPa, label=\"Central Cyclone Pressure - kPa\", color=\"b\")\n",
    "#line2, = ax2.plot(year[105:], fluxRefined[106:], label=\"Net Heat Flux into Ocean\", color=\"g\")\n",
    "#line3, = ax2.plot(fyear[79:], forcing[79:], label=\"Net Radiative Forcing\", color=\"y\")\n",
    "#line4, = ax2.plot(aceYear, vMaxAvg, label=\"Net Heat Flux into Ocean\", color=\"y\")\n",
    "\n",
    "\n",
    "curves = [line1]\n",
    "\n",
    "ax1.legend(curves, [curve.get_label() for curve in curves])\n",
    "\n",
    "plt.title('Central Cyclone Pressure per Year')\n",
    "#plt.ylabel('Amount of Carbon Dioxide in ppm')\n",
    "ax1.set_xlabel('Years since 1850', color='k')\n",
    "ax1.set_ylabel('Central Pressure (CP) kPa', color='b')\n",
    "ax1.tick_params(axis='y', colors='b')\n",
    "#ax2.set_ylabel('Climate Forcing (W/m^2)', color='g')\n",
    "#ax2.tick_params(axis='y', colors='g')\n",
    "ax1.grid()\n",
    "#plt.legend(['Average Temperature Variation', 'Carbon Emissions'])\n",
    "plt.show()"
   ]
  },
  {
   "cell_type": "markdown",
   "metadata": {},
   "source": [
    "##### Net Heat Flux in Watts/meters squared"
   ]
  },
  {
   "cell_type": "code",
   "execution_count": 25,
   "metadata": {},
   "outputs": [
    {
     "name": "stdout",
     "output_type": "stream",
     "text": [
      "   Year  time\n",
      "0  1949     0\n",
      "1  1950     1\n",
      "2  1951     2\n",
      "3  1952     3\n",
      "4  1953     4\n",
      "Predictions: \n",
      "[27.68458284 27.65756915 27.78279103 27.83149845 27.82726291 27.71053677\n",
      " 27.79057495 27.67210686 27.7884202  27.7856302  27.68531098 27.68531098\n",
      " 27.68531098 27.71023311 27.70880194 27.58699375 27.62885564 27.6780364\n",
      " 27.67123603 27.67123603 27.8366621  27.70788913 27.59269919 27.59269919\n",
      " 27.6116902  27.5655365  27.59135577 27.69486589 27.6365313  27.6365313\n",
      " 27.74995874 27.74995874 27.71783478 27.65971822 27.65971822 27.65519021\n",
      " 27.66582366 27.66582366 27.79023445 27.79023445 27.79023445 27.86565096\n",
      " 27.7212184  27.75126525 27.75126525 27.75126525 27.89401594 27.88850636\n",
      " 27.94180086 28.09102078 28.04407751 28.02116716 28.05451369 28.03134804\n",
      " 28.13420313 28.13420313 28.13420313 28.13162565 28.02206198 28.10099345\n",
      " 28.08189917 28.08189917 28.08189917 28.08189917 28.08189917 28.08189917\n",
      " 28.08189917 28.08189917 28.08189917 28.08189917 28.08189917 28.08189917\n",
      " 28.08189917 28.08189917 28.08189917 28.08189917 28.08189917 28.08189917\n",
      " 28.08189917 28.08189917 28.08189917 28.08189917 28.08189917 28.08189917\n",
      " 28.08189917 28.08189917 28.08189917 28.08189917 28.08189917 28.08189917\n",
      " 28.08189917 28.08189917 28.08189917 28.08189917 28.08189917 28.08189917\n",
      " 28.08189917 28.08189917 28.08189917 28.08055783 28.13513264 28.1665013\n",
      " 28.15284684 28.07004493 28.12496411 28.08495909 28.15706385 28.15170395\n",
      " 28.0362063  28.11316044 28.11316044 28.14326051 28.13924662 28.07184331\n",
      " 28.09705742 28.18064051 28.07971633 28.07971633 28.08749208 28.07469017\n",
      " 28.03149787 28.03149787 28.03149787 28.00693597 28.04335409 28.1094842\n",
      " 28.04492226 28.04492226 28.10783497 28.10783497 28.09470647 27.9776579\n",
      " 28.01341073 28.00270089 28.0114325  28.0114325  28.15470286 28.06348754\n",
      " 28.06348754 28.0981953  27.99937541 28.02101365 28.02101365 28.02101365\n",
      " 28.14605463 28.04080454 28.12536769 28.16012697 28.05651475 28.03455977\n",
      " 28.05677348 28.04282999 28.21484836 28.21177456 28.21177456 28.21177456\n",
      " 28.06342932 28.19763696 28.16084002 28.16084002 28.16084002 28.16084002\n",
      " 28.16084002 28.16084002 28.16084002 28.16084002 28.16084002 28.16084002]\n",
      "     predictions\n",
      "0      27.684583\n",
      "1      27.657569\n",
      "2      27.782791\n",
      "3      27.831498\n",
      "4      27.827263\n",
      "5      27.710537\n",
      "6      27.790575\n",
      "7      27.672107\n",
      "8      27.788420\n",
      "9      27.785630\n",
      "10     27.685311\n",
      "11     27.685311\n",
      "12     27.685311\n",
      "13     27.710233\n",
      "14     27.708802\n",
      "15     27.586994\n",
      "16     27.628856\n",
      "17     27.678036\n",
      "18     27.671236\n",
      "19     27.671236\n",
      "20     27.836662\n",
      "21     27.707889\n",
      "22     27.592699\n",
      "23     27.592699\n",
      "24     27.611690\n",
      "25     27.565536\n",
      "26     27.591356\n",
      "27     27.694866\n",
      "28     27.636531\n",
      "29     27.636531\n",
      "..           ...\n",
      "138    28.063488\n",
      "139    28.098195\n",
      "140    27.999375\n",
      "141    28.021014\n",
      "142    28.021014\n",
      "143    28.021014\n",
      "144    28.146055\n",
      "145    28.040805\n",
      "146    28.125368\n",
      "147    28.160127\n",
      "148    28.056515\n",
      "149    28.034560\n",
      "150    28.056773\n",
      "151    28.042830\n",
      "152    28.214848\n",
      "153    28.211775\n",
      "154    28.211775\n",
      "155    28.211775\n",
      "156    28.063429\n",
      "157    28.197637\n",
      "158    28.160840\n",
      "159    28.160840\n",
      "160    28.160840\n",
      "161    28.160840\n",
      "162    28.160840\n",
      "163    28.160840\n",
      "164    28.160840\n",
      "165    28.160840\n",
      "166    28.160840\n",
      "167    28.160840\n",
      "\n",
      "[168 rows x 1 columns]\n",
      "Max Leaf Nodes: 5\n",
      "Max Leaf Nodes: 25\n",
      "Max Leaf Nodes: 50\n",
      "Max Leaf Nodes: 75\n"
     ]
    },
    {
     "name": "stderr",
     "output_type": "stream",
     "text": [
      "C:\\Users\\surya_5mk2dxf\\Anaconda3\\lib\\site-packages\\sklearn\\ensemble\\forest.py:246: FutureWarning: The default value of n_estimators will change from 10 in version 0.20 to 100 in 0.22.\n",
      "  \"10 in version 0.20 to 100 in 0.22.\", FutureWarning)\n",
      "C:\\Users\\surya_5mk2dxf\\Anaconda3\\lib\\site-packages\\sklearn\\ensemble\\forest.py:246: FutureWarning: The default value of n_estimators will change from 10 in version 0.20 to 100 in 0.22.\n",
      "  \"10 in version 0.20 to 100 in 0.22.\", FutureWarning)\n",
      "C:\\Users\\surya_5mk2dxf\\Anaconda3\\lib\\site-packages\\sklearn\\ensemble\\forest.py:246: FutureWarning: The default value of n_estimators will change from 10 in version 0.20 to 100 in 0.22.\n",
      "  \"10 in version 0.20 to 100 in 0.22.\", FutureWarning)\n",
      "C:\\Users\\surya_5mk2dxf\\Anaconda3\\lib\\site-packages\\sklearn\\ensemble\\forest.py:246: FutureWarning: The default value of n_estimators will change from 10 in version 0.20 to 100 in 0.22.\n",
      "  \"10 in version 0.20 to 100 in 0.22.\", FutureWarning)\n",
      "C:\\Users\\surya_5mk2dxf\\Anaconda3\\lib\\site-packages\\sklearn\\ensemble\\forest.py:246: FutureWarning: The default value of n_estimators will change from 10 in version 0.20 to 100 in 0.22.\n",
      "  \"10 in version 0.20 to 100 in 0.22.\", FutureWarning)\n",
      "C:\\Users\\surya_5mk2dxf\\Anaconda3\\lib\\site-packages\\sklearn\\ensemble\\forest.py:246: FutureWarning: The default value of n_estimators will change from 10 in version 0.20 to 100 in 0.22.\n",
      "  \"10 in version 0.20 to 100 in 0.22.\", FutureWarning)\n"
     ]
    },
    {
     "name": "stdout",
     "output_type": "stream",
     "text": [
      "Max Leaf Nodes: 100\n",
      "Max Leaf Nodes: 150\n",
      "Max Leaf Nodes: 300\n",
      "Max Leaf Nodes: 500\n"
     ]
    },
    {
     "name": "stderr",
     "output_type": "stream",
     "text": [
      "C:\\Users\\surya_5mk2dxf\\Anaconda3\\lib\\site-packages\\sklearn\\ensemble\\forest.py:246: FutureWarning: The default value of n_estimators will change from 10 in version 0.20 to 100 in 0.22.\n",
      "  \"10 in version 0.20 to 100 in 0.22.\", FutureWarning)\n",
      "C:\\Users\\surya_5mk2dxf\\Anaconda3\\lib\\site-packages\\sklearn\\ensemble\\forest.py:246: FutureWarning: The default value of n_estimators will change from 10 in version 0.20 to 100 in 0.22.\n",
      "  \"10 in version 0.20 to 100 in 0.22.\", FutureWarning)\n",
      "C:\\Users\\surya_5mk2dxf\\Anaconda3\\lib\\site-packages\\sklearn\\ensemble\\forest.py:246: FutureWarning: The default value of n_estimators will change from 10 in version 0.20 to 100 in 0.22.\n",
      "  \"10 in version 0.20 to 100 in 0.22.\", FutureWarning)\n",
      "C:\\Users\\surya_5mk2dxf\\Anaconda3\\lib\\site-packages\\sklearn\\ensemble\\forest.py:246: FutureWarning: The default value of n_estimators will change from 10 in version 0.20 to 100 in 0.22.\n",
      "  \"10 in version 0.20 to 100 in 0.22.\", FutureWarning)\n"
     ]
    },
    {
     "name": "stdout",
     "output_type": "stream",
     "text": [
      "Max Leaf Nodes: 1000\n",
      "Max Leaf Nodes: 5000\n"
     ]
    }
   ],
   "source": [
    "model.predict(X[:61], sst[:61], X1)\n",
    "\n",
    "mae_array = list()\n",
    "mae = list()\n",
    "for mln in [5, 25, 50, 75, 100, 150, 300, 500, 1000, 5000]:\n",
    "    print(\"Max Leaf Nodes: \" + str(mln))\n",
    "    mae_array.append(model.validate(X[:61], sst[:61], mln))\n",
    "    #print(mae_array)\n",
    "    for i in mae_array:\n",
    "        mae.append(float(i))\n",
    "\n",
    "    #mae = mae[5:]\n",
    "    #print(mae)\n",
    "#print(X[:61])\n",
    "#net_flux\n",
    "#for i in "
   ]
  },
  {
   "cell_type": "code",
   "execution_count": 30,
   "metadata": {},
   "outputs": [
    {
     "name": "stdout",
     "output_type": "stream",
     "text": [
      "[27.66922508 27.66922508 27.70586126 27.75473324 27.72767158 27.71150037\n",
      " 27.71150037 27.66679353 27.66679353 27.66679353 27.60730124 27.64917494\n",
      " 27.64917494 27.66968316 27.66968316 27.63512996 27.63512996 27.63512996\n",
      " 27.60216122 27.60216122 27.79550835 27.6999626  27.54075252 27.54075252\n",
      " 27.55457234 27.54434284 27.56236638 27.62770094 27.61847924 27.61847924\n",
      " 27.71540675 27.71540675 27.69970253 27.59695588 27.59695588 27.59695588\n",
      " 27.59695588 27.59695588 27.7365206  27.7365206  27.7365206  27.78046613\n",
      " 27.72349701 27.72349701 27.72349701 27.72349701 27.89854806 27.85425928\n",
      " 27.9301207  28.035692   27.99600354 27.9495461  27.94857552 27.89947315\n",
      " 28.0763736  28.0763736  28.0763736  28.0763736  27.95091187 28.00876808\n",
      " 28.01130165 28.01130165 28.01130165 28.01130165 28.01130165 28.01130165\n",
      " 28.01130165 28.01130165 28.01130165 28.01130165 28.01130165 28.01130165\n",
      " 28.01130165 28.01130165 28.01130165 28.01130165 28.01130165 28.01130165\n",
      " 28.01130165 28.01130165 28.01130165 28.01130165 28.01130165 28.01130165\n",
      " 28.01130165 28.01130165 28.01130165 28.01130165 28.01130165 28.01130165\n",
      " 28.01130165 28.01130165 28.01130165 28.01130165 28.01130165 28.01130165\n",
      " 28.01130165 28.01130165 27.67306    27.62029    27.87006    28.02661\n",
      " 27.9496     27.57289    27.89352    27.57563    28.00031    27.96931\n",
      " 27.4434     27.7061     27.69907    27.83008    27.80315    27.45522\n",
      " 27.58696    27.86255    27.53905    27.57263    28.02424    27.68121\n",
      " 27.37945    27.40596    27.56332    27.29041    27.46487    27.76143\n",
      " 27.51015    27.52098    27.87325    27.93514    27.77291    27.39746\n",
      " 27.59056    27.38607    27.57479    27.49639    28.15123    27.71681\n",
      " 27.86768    28.08228    27.41771    27.59487    27.62325    27.57063\n",
      " 28.15299    27.82113    28.05831    28.36454    28.0766     27.82726\n",
      " 28.11684    27.87124    28.4429     28.38297    28.44763    28.39564\n",
      " 27.85678    28.29709    28.16075    28.19089542 28.19089542 28.19089542\n",
      " 28.19089542 28.19089542 28.19089542 28.19089542 28.19089542 28.19089542]\n"
     ]
    },
    {
     "data": {
      "image/png": "[encoded data removed]",
      "text/plain": [
       "<Figure size 432x288 with 2 Axes>"
      ]
     },
     "metadata": {
      "needs_background": "light"
     },
     "output_type": "display_data"
    }
   ],
   "source": [
    "sstArray = sst.to_numpy()\n",
    "m = list()\n",
    "m = mae #mean absolute error\n",
    "#print(m)\n",
    "\n",
    "candidate_leaf_nodes = [5, 25, 50, 75, 100, 150, 300, 500, 1000, 5000]\n",
    "#print(checkFit.iteration(m))\n",
    "index = checkFit.iteration(m)\n",
    "best_tree_size = candidate_leaf_nodes[index]\n",
    "#print(\" \")\n",
    "#print(\"Max Leaf Node Size: \" + str(best_tree_size))\n",
    "\n",
    "final_model = GradientBoostingRegressor(max_leaf_nodes = 5, random_state = 0)\n",
    "final_model.fit(X[:61], sst[:61])\n",
    "\n",
    "#print(final_model.predict(X1))\n",
    "valid_pred = final_model.predict(X1)\n",
    "\n",
    "fig, ax1 = plt.subplots()\n",
    "ax2 = ax1.twinx()\n",
    "\n",
    "line1, = ax1.plot(x1, valid_pred, label=\"Central Cyclone Pressure - kPa\", color=\"b\")\n",
    "line2, = ax2.plot(x, sstArray, label=\"Net Heat Flux into Ocean\", color=\"g\")\n",
    "#line3, = ax2.plot(fyear[79:], forcing[79:], label=\"Net Radiative Forcing\", color=\"y\")\n",
    "#line4, = ax2.plot(aceYear, vMaxAvg, label=\"Net Heat Flux into Ocean\", color=\"y\")\n",
    "\n",
    "\n",
    "curves = [line1]\n",
    "\n",
    "ax1.legend(curves, [curve.get_label() for curve in curves])\n",
    "\n",
    "plt.title('Central Cyclone Pressure per Year')\n",
    "#plt.ylabel('Amount of Carbon Dioxide in ppm')\n",
    "ax1.set_xlabel('Years since 1850', color='k')\n",
    "ax1.set_ylabel('Central Pressure (CP) kPa', color='b')\n",
    "ax1.tick_params(axis='y', colors='b')\n",
    "#ax2.set_ylabel('Climate Forcing (W/m^2)', color='g')\n",
    "#ax2.tick_params(axis='y', colors='g')\n",
    "ax1.grid()\n",
    "#plt.legend(['Average Temperature Variation', 'Carbon Emissions'])\n",
    "plt.show()\n",
    "\n",
    "predictions = pd.DataFrame({'Year': x1,'predictions': valid_pred})\n",
    "#print(predictions)\n",
    "\n",
    "newSST = np.concatenate((valid_pred[:98], sstArray))\n",
    "sstNew = np.concatenate((newSST[:159], valid_pred[159:]))\n",
    "print(sstNew)\n",
    "\n",
    "\n",
    "fig, ax1 = plt.subplots()\n",
    "ax2 = ax1.twinx()\n",
    "\n",
    "line1, = ax1.plot(x1, valid_pred, label=\"Central Cyclone Pressure - kPa\", color=\"b\")\n",
    "line2, = ax2.plot(x, sstArray, label=\"Net Heat Flux into Ocean\", color=\"g\")\n",
    "#line3, = ax2.plot(fyear[79:], forcing[79:], label=\"Net Radiative Forcing\", color=\"y\")\n",
    "#line4, = ax2.plot(aceYear, vMaxAvg, label=\"Net Heat Flux into Ocean\", color=\"y\")\n",
    "\n",
    "\n",
    "curves = [line1]\n",
    "\n",
    "ax1.legend(curves, [curve.get_label() for curve in curves])\n",
    "\n",
    "plt.title('Central Cyclone Pressure per Year')\n",
    "#plt.ylabel('Amount of Carbon Dioxide in ppm')\n",
    "ax1.set_xlabel('Years since 1850', color='k')\n",
    "ax1.set_ylabel('Central Pressure (CP) kPa', color='b')\n",
    "ax1.tick_params(axis='y', colors='b')\n",
    "#ax2.set_ylabel('Climate Forcing (W/m^2)', color='g')\n",
    "#ax2.tick_params(axis='y', colors='g')\n",
    "ax1.grid()\n",
    "#plt.legend(['Average Temperature Variation', 'Carbon Emissions'])\n",
    "plt.show()"
   ]
  },
  {
   "cell_type": "code",
   "execution_count": null,
   "metadata": {},
   "outputs": [],
   "source": [
    "#print(cycloneData)\n",
    "## Convert V max km/h to m/s\n",
    "vMaxM = list()\n",
    "vMaxMavg = list()\n",
    "for h in range(lent):\n",
    "    vMaxM.append((vMaxKM[h]*1000)/3600)\n",
    "    vMaxMavg.append((vMaxKMavg[h]*1000)/3600)\n",
    "    \n",
    "## Outflow temperature constants according to Dr. Emanuel's reanalysis of NCEP proxy outflow temps\n",
    "a = -260  # W/m^2 - constant for radiative forcing into sea\n",
    "b = 10.3 # W/(m^2 * K)\n",
    "c = 7.8 # (W * s)/(m^3 * K)\n",
    "\n",
    "net_flux = list()\n",
    "\n",
    "print(len(vMaxM))\n",
    "\n",
    "for n in range(len(vMaxM)):\n",
    "    net_flux.append(a + (b*sstNew[n]) + (c*vMaxM[n]))\n",
    "    \n",
    "print(net_flux)"
   ]
  },
  {
   "cell_type": "code",
   "execution_count": 21,
   "metadata": {},
   "outputs": [
    {
     "name": "stdout",
     "output_type": "stream",
     "text": [
      "     Year       SST  Potential Intensity  Central Pressure     Net_Flux  \\\n",
      "0    1851  27.67306          1111.200000      -1681.197263  2432.593018   \n",
      "1    1852  27.62029          1582.349494      -4447.150006  3453.416921   \n",
      "2    1853  27.87006          1614.536169      -4671.416445  3523.532070   \n",
      "3    1854  28.02661          1031.149960      -1307.419866  2260.031999   \n",
      "4    1855  27.94960           785.737055       -335.598632  1728.025304   \n",
      "5    1856  27.57289          1296.400000      -2653.018497  2834.295121   \n",
      "6    1857  27.89352          1171.307645      -1980.219181  2563.261685   \n",
      "7    1858  27.57563          1242.359368      -2353.996579  2716.746605   \n",
      "8    1859  28.00031          1385.909896      -3176.306854  3027.772748   \n",
      "9    1860  27.96931          1458.266258      -3624.839731  3184.544866   \n",
      "10   1861  27.44340          1309.561759      -2727.773977  2861.739013   \n",
      "11   1862  27.70610          1256.087513      -2428.752059  2746.309446   \n",
      "12   1863  27.69907          1309.561759      -2727.773977  2862.170313   \n",
      "13   1864  27.83008           962.327429      -1008.397947  2110.040499   \n",
      "14   1865  27.80315          1296.400000      -2653.018497  2833.864403   \n",
      "15   1866  27.45522          1697.386037      -5269.460281  3702.311586   \n",
      "16   1867  27.58696          1434.553031      -3475.328772  3132.840073   \n",
      "17   1868  27.86255          1095.657976      -1606.441784  2398.567453   \n",
      "18   1869  27.53905          1322.592545      -2802.529456  2889.919441   \n",
      "19   1870  27.57263          1737.329997      -5568.482199  3788.517255   \n",
      "20   1871  28.02424          1737.329997      -5568.482199  3790.508731   \n",
      "21   1872  27.68121          1493.130135      -3849.106170  3260.424907   \n",
      "22   1873  27.37945          1538.386739      -4148.128088  3356.841020   \n",
      "23   1874  27.40596          1269.667232      -2503.507538  2774.615420   \n",
      "24   1875  27.56332          1571.474111      -4372.394526  3428.672668   \n",
      "25   1876  27.29041          1398.229337      -3251.062333  3053.203629   \n",
      "26   1877  27.46487          1582.349494      -4447.150006  3452.316277   \n",
      "27   1878  27.76143          2491.611174     -12520.741796  5423.056196   \n",
      "28   1879  27.51015          1481.600000      -3774.350690  3234.603669   \n",
      "29   1880  27.52098          2119.710886      -8782.967819  4617.177256   \n",
      "..    ...       ...                  ...               ...          ...   \n",
      "138  1989       NaN          2151.829547      -9081.989737  4689.334456   \n",
      "139  1990       NaN          1824.008465      -6241.281515  3981.265825   \n",
      "140  1991       NaN          1111.200000      -1681.197263  2430.002413   \n",
      "141  1992       NaN          1614.536169      -4671.416445  3522.388860   \n",
      "142  1993       NaN          1156.573629      -1905.463702  2530.429005   \n",
      "143  1994       NaN          1047.649407      -1382.175345  2293.884538   \n",
      "144  1995       NaN          2796.458675     -16034.249334  6088.969592   \n",
      "145  1996       NaN          2386.135084     -11399.409603  5196.516988   \n",
      "146  1997       NaN          1185.858609      -2054.974661  2598.360912   \n",
      "147  1998       NaN          2498.484597     -12595.497275  5445.538055   \n",
      "148  1999       NaN          2463.925746     -12221.719877  5367.694762   \n",
      "149  2000       NaN          2020.293484      -7885.902065  4403.923326   \n",
      "150  2001       NaN          1942.393987      -7213.102749  4238.123757   \n",
      "151  2002       NaN          1515.927333      -3998.617129  3311.582994   \n",
      "152  2003       NaN          2456.955645     -12146.964398  5356.365767   \n",
      "153  2004       NaN          2790.319351     -15959.493854  6078.036518   \n",
      "154  2005       NaN          2928.269113     -17678.869883  6377.593668   \n",
      "155  2006       NaN          1646.093606      -4895.682883  3599.011239   \n",
      "156  2007       NaN          1593.150639      -4521.905486  3478.751219   \n",
      "157  2008       NaN          2237.780114      -9904.300012  4879.983608   \n",
      "158  2009       NaN          1348.276351      -2952.040415  2951.321153   \n",
      "159  2010       NaN          2378.937074     -11324.654123  5184.729882   \n",
      "160  2011       NaN          2078.864844      -8409.190421  4534.573385   \n",
      "161  2012       NaN          2103.467651      -8633.456860  4587.879467   \n",
      "162  2013       NaN          1111.200000      -1681.197263  2437.966223   \n",
      "163  2014       NaN          1515.927333      -3998.617129  3314.875445   \n",
      "164  2015       NaN          1469.979428      -3699.595211  3215.321651   \n",
      "165  2016       NaN          2199.128155      -9530.522614  4795.143891   \n",
      "166  2017       NaN          2778.000000     -15809.982895  6049.366223   \n",
      "167  2018       NaN          2135.830593      -8932.478778  4657.999173   \n",
      "\n",
      "        Net_Flux  \n",
      "0    2432.593018  \n",
      "1    3453.416921  \n",
      "2    3523.532070  \n",
      "3    2260.031999  \n",
      "4    1728.025304  \n",
      "5    2834.295121  \n",
      "6    2563.261685  \n",
      "7    2716.746605  \n",
      "8    3027.772748  \n",
      "9    3184.544866  \n",
      "10   2861.739013  \n",
      "11   2746.309446  \n",
      "12   2862.170313  \n",
      "13   2110.040499  \n",
      "14   2833.864403  \n",
      "15   3702.311586  \n",
      "16   3132.840073  \n",
      "17   2398.567453  \n",
      "18   2889.919441  \n",
      "19   3788.517255  \n",
      "20   3790.508731  \n",
      "21   3260.424907  \n",
      "22   3356.841020  \n",
      "23   2774.615420  \n",
      "24   3428.672668  \n",
      "25   3053.203629  \n",
      "26   3452.316277  \n",
      "27   5423.056196  \n",
      "28   3234.603669  \n",
      "29   4617.177256  \n",
      "..           ...  \n",
      "138  4689.334456  \n",
      "139  3981.265825  \n",
      "140  2430.002413  \n",
      "141  3522.388860  \n",
      "142  2530.429005  \n",
      "143  2293.884538  \n",
      "144  6088.969592  \n",
      "145  5196.516988  \n",
      "146  2598.360912  \n",
      "147  5445.538055  \n",
      "148  5367.694762  \n",
      "149  4403.923326  \n",
      "150  4238.123757  \n",
      "151  3311.582994  \n",
      "152  5356.365767  \n",
      "153  6078.036518  \n",
      "154  6377.593668  \n",
      "155  3599.011239  \n",
      "156  3478.751219  \n",
      "157  4879.983608  \n",
      "158  2951.321153  \n",
      "159  5184.729882  \n",
      "160  4534.573385  \n",
      "161  4587.879467  \n",
      "162  2437.966223  \n",
      "163  3314.875445  \n",
      "164  3215.321651  \n",
      "165  4795.143891  \n",
      "166  6049.366223  \n",
      "167  4657.999173  \n",
      "\n",
      "[168 rows x 6 columns]\n"
     ]
    }
   ],
   "source": [
    "pd.DataFrame(net_flux).to_csv(\"./flux.csv\")\n",
    "df.insert(4, \"Net_Flux\", net_flux, True)\n",
    "print(df)"
   ]
  },
  {
   "cell_type": "code",
   "execution_count": 20,
   "metadata": {},
   "outputs": [],
   "source": [
    "pd.DataFrame(sstNew).to_csv(\"./sstNew.csv\")"
   ]
  },
  {
   "cell_type": "code",
   "execution_count": null,
   "metadata": {},
   "outputs": [],
   "source": [
    "'''import firebase_admin\n",
    "import google.cloud\n",
    "from firebase_admin import credentials, firestore\n",
    "\n",
    "cred = credentials.Certificate(\"./ServiceAccountKey.json\")\n",
    "app = firebase_admin.initialize_app(cred)\n",
    "\n",
    "store = firestore.client()\n",
    "doc_ref = store.collection(u'users').limit(2)\n",
    "\n",
    "try:\n",
    "    docs = doc_ref.get()\n",
    "    for doc in docs:\n",
    "        print(u'Doc Data:{}'.format(doc.to_dict()))\n",
    "except google.cloud.exceptions.NotFound:\n",
    "    print(u'Missing data')"
   ]
  },
  {
   "cell_type": "code",
   "execution_count": null,
   "metadata": {},
   "outputs": [],
   "source": [
    "'''import firebase_admin\n",
    "import google.cloud\n",
    "from firebase_admin import credentials, firestore\n",
    "\n",
    "cred = credentials.Certificate(\"./ServiceAccountKey.json\")\n",
    "app = firebase_admin.initialize_app(cred)\n",
    "\n",
    "store = firestore.client()\n",
    "\n",
    "doc_ref = store.collection(u'test')\n",
    "doc_ref.add({u'name': u'test', u'added': u'just now'})"
   ]
  },
  {
   "cell_type": "code",
   "execution_count": null,
   "metadata": {},
   "outputs": [],
   "source": []
  }
 ],
 "metadata": {
  "kernelspec": {
   "display_name": "Python 3",
   "language": "python",
   "name": "python3"
  },
  "language_info": {
   "codemirror_mode": {
    "name": "ipython",
    "version": 3
   },
   "file_extension": ".py",
   "mimetype": "text/x-python",
   "name": "python",
   "nbconvert_exporter": "python",
   "pygments_lexer": "ipython3",
   "version": "3.6.7"
  }
 },
 "nbformat": 4,
 "nbformat_minor": 2
}
