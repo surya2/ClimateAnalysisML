{
 "cells": [
  {
   "cell_type": "code",
   "execution_count": 1,
   "metadata": {},
   "outputs": [],
   "source": [
    "from sklearn.ensemble import GradientBoostingRegressor\n",
    "from sklearn.ensemble import RandomForestRegressor\n",
    "#import xgboost as xgb\n",
    "import pandas as pd\n",
    "import numpy as np\n",
    "from matplotlib import pyplot as plt\n",
    "from scipy.stats import kendalltau\n",
    "from scipy.stats import spearmanr\n",
    "from scipy.stats import pointbiserialr\n",
    "import math"
   ]
  },
  {
   "cell_type": "code",
   "execution_count": 2,
   "metadata": {},
   "outputs": [],
   "source": [
    "CO2entropy = 'entropy.csv'\n",
    "entropy = pd.read_csv(CO2entropy)\n",
    "entropy = entropy.iloc[:,1]\n",
    "#print(entropy)\n",
    "\n",
    "CO2year = 'CO2year.csv'\n",
    "year = pd.read_csv(CO2year)\n",
    "\n",
    "CO2_Comprehensive_Data = 'Climate Change Analysis/Datasets/Stage 1/Gas Concentration/co2_concentration.csv'\n",
    "CO2csv = pd.read_csv(CO2_Comprehensive_Data)\n",
    "CO2_x = year"
   ]
  },
  {
   "cell_type": "code",
   "execution_count": 3,
   "metadata": {},
   "outputs": [],
   "source": [
    "flux = 'flux.csv'\n",
    "flux = pd.read_csv(flux)\n",
    "flux = flux.iloc[:,1]\n",
    "#print(entropy)\n",
    "\n",
    "fluxyear = 'fluxYear.csv'\n",
    "year = pd.read_csv(fluxyear)\n",
    "\n",
    "flux = flux.to_numpy()\n",
    "fluxRefined = list()\n",
    "for i in flux:\n",
    "    fluxRefined.append(i/1000)\n",
    "    \n",
    "#print(fluxRefined)"
   ]
  },
  {
   "cell_type": "code",
   "execution_count": 4,
   "metadata": {},
   "outputs": [],
   "source": [
    "forcing = 'Climate Change Analysis/Datasets/Stage 1/Radiative Forcing/Global_Mean_Net_Radiative_Forcing.csv'\n",
    "Forcing = pd.read_csv(forcing)\n",
    "forcing = Forcing.iloc[:,1]\n",
    "fyear = Forcing.Year"
   ]
  },
  {
   "cell_type": "code",
   "execution_count": 5,
   "metadata": {},
   "outputs": [],
   "source": [
    "emission_model = GradientBoostingRegressor(random_state=1)\n",
    "from sklearn.metrics import mean_absolute_error\n",
    "from sklearn.model_selection import train_test_split\n",
    "\n",
    "class regression:\n",
    "        \n",
    "    def predict(self, X, y, pred):\n",
    "        emission_model.fit(X, y)\n",
    "        print(X.head())\n",
    "        print(\"Predictions: \")\n",
    "        print(emission_model.predict(pred))\n",
    "        train_pred = emission_model.predict(pred)\n",
    "    \n",
    "        #print(high_price_model.predict(108.000, 3477599.0))\n",
    "        training_predictions = pd.DataFrame({'predictions': train_pred})\n",
    "        #firstPred = cycloneData.join(training_predictions)\n",
    "        #print(cycloneData.join(training_predictions))\n",
    "        print(training_predictions)\n",
    "\n",
    "        #print(\"Prediction Error: \")\n",
    "        #mean_absolute_error(y, train_pred)\n",
    "        \n",
    "    def validate(self, X, y, mln):\n",
    "        train_x, val_x, train_y, val_y = train_test_split(X, y, random_state = 0)\n",
    "        validation_model = RandomForestRegressor()\n",
    "        validation_model.fit(train_x, train_y)\n",
    "        mean_absolute_error(val_y, validation_model.predict(val_x))\n",
    "        \n",
    "        fitting_model = GradientBoostingRegressor(max_leaf_nodes = mln, random_state = 0)\n",
    "        fitting_model.fit(train_x, train_y) \n",
    "        mae = mean_absolute_error(val_y, fitting_model.predict(val_x))\n",
    "        return(str(mae))\n",
    "    \n",
    "class check_Least:\n",
    "    def __init__(self):\n",
    "        self.least = 111111111111111111111111111111111111111111111111111110\n",
    "    def iteration(self, m): \n",
    "        for x in m:\n",
    "            #for i in candidate_max_leaf_nodes:\n",
    "                if(x <= self.least):\n",
    "                    self.least = x\n",
    "                else:\n",
    "                    continue\n",
    "        return(m.index(self.least))\n",
    "    \n",
    "model = regression()\n",
    "checkFit = check_Least()"
   ]
  },
  {
   "cell_type": "code",
   "execution_count": 6,
   "metadata": {},
   "outputs": [
    {
     "name": "stdout",
     "output_type": "stream",
     "text": [
      "     1851\n",
      "105  1957\n",
      "106  1958\n",
      "107  1959\n",
      "108  1960\n",
      "109  1961\n",
      "Predictions: \n",
      "[3.73457685 3.83419007 5.34639562 2.82388716 4.55475081 4.68782361\n",
      " 4.162107   4.38194828 4.29326949 3.13166387 4.76439032 2.83457889\n",
      " 3.66614244 2.78402232 2.97917988 3.36723466 3.39440536 3.39440536\n",
      " 2.87291691 3.26087831 3.74368234 4.1272506  3.9020299  2.49718608\n",
      " 2.49718608 3.48463757 3.48463757 2.72839838 2.6909768  3.9983966\n",
      " 4.28732257 3.85753228 2.8787908  3.22050513 2.69085778 2.59399046\n",
      " 5.61372692 4.98272549 3.10377358 4.96275392 4.96275392 4.43036519\n",
      " 4.37796902 3.7669552  5.26204484 5.89765447 6.10103978 3.77485815\n",
      " 3.71211813 4.54876546 3.49555721 4.8711359  4.55343819 4.55343819\n",
      " 2.67535567 3.35417295 3.35417295 4.73518494 5.84821972 4.6656894\n",
      " 4.6656894 ]\n",
      "    predictions\n",
      "0      3.734577\n",
      "1      3.834190\n",
      "2      5.346396\n",
      "3      2.823887\n",
      "4      4.554751\n",
      "5      4.687824\n",
      "6      4.162107\n",
      "7      4.381948\n",
      "8      4.293269\n",
      "9      3.131664\n",
      "10     4.764390\n",
      "11     2.834579\n",
      "12     3.666142\n",
      "13     2.784022\n",
      "14     2.979180\n",
      "15     3.367235\n",
      "16     3.394405\n",
      "17     3.394405\n",
      "18     2.872917\n",
      "19     3.260878\n",
      "20     3.743682\n",
      "21     4.127251\n",
      "22     3.902030\n",
      "23     2.497186\n",
      "24     2.497186\n",
      "25     3.484638\n",
      "26     3.484638\n",
      "27     2.728398\n",
      "28     2.690977\n",
      "29     3.998397\n",
      "..          ...\n",
      "31     3.857532\n",
      "32     2.878791\n",
      "33     3.220505\n",
      "34     2.690858\n",
      "35     2.593990\n",
      "36     5.613727\n",
      "37     4.982725\n",
      "38     3.103774\n",
      "39     4.962754\n",
      "40     4.962754\n",
      "41     4.430365\n",
      "42     4.377969\n",
      "43     3.766955\n",
      "44     5.262045\n",
      "45     5.897654\n",
      "46     6.101040\n",
      "47     3.774858\n",
      "48     3.712118\n",
      "49     4.548765\n",
      "50     3.495557\n",
      "51     4.871136\n",
      "52     4.553438\n",
      "53     4.553438\n",
      "54     2.675356\n",
      "55     3.354173\n",
      "56     3.354173\n",
      "57     4.735185\n",
      "58     5.848220\n",
      "59     4.665689\n",
      "60     4.665689\n",
      "\n",
      "[61 rows x 1 columns]\n"
     ]
    },
    {
     "name": "stderr",
     "output_type": "stream",
     "text": [
      "C:\\Users\\surya_5mk2dxf\\Anaconda3\\lib\\site-packages\\sklearn\\ensemble\\forest.py:246: FutureWarning: The default value of n_estimators will change from 10 in version 0.20 to 100 in 0.22.\n",
      "  \"10 in version 0.20 to 100 in 0.22.\", FutureWarning)\n",
      "C:\\Users\\surya_5mk2dxf\\Anaconda3\\lib\\site-packages\\sklearn\\ensemble\\forest.py:246: FutureWarning: The default value of n_estimators will change from 10 in version 0.20 to 100 in 0.22.\n",
      "  \"10 in version 0.20 to 100 in 0.22.\", FutureWarning)\n",
      "C:\\Users\\surya_5mk2dxf\\Anaconda3\\lib\\site-packages\\sklearn\\ensemble\\forest.py:246: FutureWarning: The default value of n_estimators will change from 10 in version 0.20 to 100 in 0.22.\n",
      "  \"10 in version 0.20 to 100 in 0.22.\", FutureWarning)\n",
      "C:\\Users\\surya_5mk2dxf\\Anaconda3\\lib\\site-packages\\sklearn\\ensemble\\forest.py:246: FutureWarning: The default value of n_estimators will change from 10 in version 0.20 to 100 in 0.22.\n",
      "  \"10 in version 0.20 to 100 in 0.22.\", FutureWarning)\n",
      "C:\\Users\\surya_5mk2dxf\\Anaconda3\\lib\\site-packages\\sklearn\\ensemble\\forest.py:246: FutureWarning: The default value of n_estimators will change from 10 in version 0.20 to 100 in 0.22.\n",
      "  \"10 in version 0.20 to 100 in 0.22.\", FutureWarning)\n",
      "C:\\Users\\surya_5mk2dxf\\Anaconda3\\lib\\site-packages\\sklearn\\ensemble\\forest.py:246: FutureWarning: The default value of n_estimators will change from 10 in version 0.20 to 100 in 0.22.\n",
      "  \"10 in version 0.20 to 100 in 0.22.\", FutureWarning)\n",
      "C:\\Users\\surya_5mk2dxf\\Anaconda3\\lib\\site-packages\\sklearn\\ensemble\\forest.py:246: FutureWarning: The default value of n_estimators will change from 10 in version 0.20 to 100 in 0.22.\n",
      "  \"10 in version 0.20 to 100 in 0.22.\", FutureWarning)\n",
      "C:\\Users\\surya_5mk2dxf\\Anaconda3\\lib\\site-packages\\sklearn\\ensemble\\forest.py:246: FutureWarning: The default value of n_estimators will change from 10 in version 0.20 to 100 in 0.22.\n",
      "  \"10 in version 0.20 to 100 in 0.22.\", FutureWarning)\n",
      "C:\\Users\\surya_5mk2dxf\\Anaconda3\\lib\\site-packages\\sklearn\\ensemble\\forest.py:246: FutureWarning: The default value of n_estimators will change from 10 in version 0.20 to 100 in 0.22.\n",
      "  \"10 in version 0.20 to 100 in 0.22.\", FutureWarning)\n",
      "C:\\Users\\surya_5mk2dxf\\Anaconda3\\lib\\site-packages\\sklearn\\ensemble\\forest.py:246: FutureWarning: The default value of n_estimators will change from 10 in version 0.20 to 100 in 0.22.\n",
      "  \"10 in version 0.20 to 100 in 0.22.\", FutureWarning)\n"
     ]
    },
    {
     "name": "stdout",
     "output_type": "stream",
     "text": [
      "[3.65650541 3.82610291 5.5926874  2.63579519 4.43735127 5.04141124\n",
      " 3.85785297 4.6651182  4.37428974 3.03207397 4.88380361 2.97602681\n",
      " 3.63719963 2.68129799 2.90139388 3.27506347 3.42725554 3.55267005\n",
      " 2.37145775 3.19968196 3.8469472  4.59432722 3.98561671 2.37072088\n",
      " 1.88594166 3.61456442 3.66496185 2.61207525 2.56651461 4.00724477\n",
      " 4.44834823 3.90379008 2.66411662 3.34659895 2.62104329 2.49627078\n",
      " 5.94243013 5.13918847 2.81879838 5.3015105  5.23535107 4.33746235\n",
      " 4.28467547 3.50337642 5.3012305  6.00381804 6.18081171 3.75814222\n",
      " 3.70179331 4.62379382 3.14267365 5.02936754 4.5101645  4.5101645\n",
      " 2.60866053 3.32205184 3.24299529 4.76149874 5.93470662 4.6464615\n",
      " 4.6464615 ]\n"
     ]
    }
   ],
   "source": [
    "model.predict(year[105:], fluxRefined[106:], CO2_x)\n",
    "\n",
    "mae_array = list()\n",
    "mae = list()\n",
    "for mln in [5, 25, 50, 75, 100, 150, 300, 500, 1000, 5000]:\n",
    "    #print(\"Max Leaf Nodes: \" + str(mln))\n",
    "    mae_array.append(model.validate(year[105:], fluxRefined[106:], mln))\n",
    "    #print(mae_array)\n",
    "    for i in mae_array:\n",
    "        mae.append(float(i))\n",
    "        \n",
    "m = list()\n",
    "m = mae\n",
    "#print(m)\n",
    "\n",
    "candidate_leaf_nodes = [5, 25, 50, 75, 100, 150, 300, 500, 1000, 5000]\n",
    "#print(checkFit.iteration(m))\n",
    "index = checkFit.iteration(m)\n",
    "#print(candidate_leaf_nodes[index])\n",
    "#print(\" \")\n",
    "#print(\"Max Leaf Node Size: \" + str(best_tree_size))\n",
    "\n",
    "final_model = GradientBoostingRegressor(max_leaf_nodes = 100, random_state = 0)\n",
    "final_model.fit(year[105:], fluxRefined[106:])\n",
    "\n",
    "valid_pred = final_model.predict(CO2_x)\n",
    "print(valid_pred)\n",
    "pd.DataFrame(valid_pred).to_csv(\"./fluxPred.csv\")"
   ]
  },
  {
   "cell_type": "code",
   "execution_count": 7,
   "metadata": {},
   "outputs": [
    {
     "name": "stdout",
     "output_type": "stream",
     "text": [
      "     1851\n",
      "109  1961\n",
      "110  1962\n",
      "111  1963\n",
      "112  1964\n",
      "113  1965\n",
      "Predictions: \n",
      "[ 0.48531419  0.48531419  0.48531419  0.38900045  0.20111925  0.12727853\n",
      " -0.62459154 -1.1611547  -0.50499952  0.02508918  0.18910422  0.03368345\n",
      " -0.03865644  0.34728376  0.55261159  0.59218998  0.56825214  0.47479121\n",
      "  0.13007736  0.49315102  0.76545391  0.8116473   0.84734979  0.98937136\n",
      "  1.00654362 -0.09781126 -0.52966681  0.43162106  0.85425221  0.92006648\n",
      "  1.04087472  1.19914605  1.35479216  1.3634291   0.29056147 -1.25184471\n",
      "  0.33201049  1.01121612  1.2603111   1.33090242  1.37331185  1.50903796\n",
      "  1.59641563  1.60246857  1.60246857  1.60246857  1.5363412   1.5363412\n",
      "  1.48238378  1.51257715  1.54948512  1.58049969  1.57817506  1.64395494\n",
      "  1.64395494  1.64395494  1.64395494  1.64395494  1.64395494  1.64395494\n",
      "  1.64395494]\n",
      "    predictions\n",
      "0      0.485314\n",
      "1      0.485314\n",
      "2      0.485314\n",
      "3      0.389000\n",
      "4      0.201119\n",
      "5      0.127279\n",
      "6     -0.624592\n",
      "7     -1.161155\n",
      "8     -0.505000\n",
      "9      0.025089\n",
      "10     0.189104\n",
      "11     0.033683\n",
      "12    -0.038656\n",
      "13     0.347284\n",
      "14     0.552612\n",
      "15     0.592190\n",
      "16     0.568252\n",
      "17     0.474791\n",
      "18     0.130077\n",
      "19     0.493151\n",
      "20     0.765454\n",
      "21     0.811647\n",
      "22     0.847350\n",
      "23     0.989371\n",
      "24     1.006544\n",
      "25    -0.097811\n",
      "26    -0.529667\n",
      "27     0.431621\n",
      "28     0.854252\n",
      "29     0.920066\n",
      "..          ...\n",
      "31     1.199146\n",
      "32     1.354792\n",
      "33     1.363429\n",
      "34     0.290561\n",
      "35    -1.251845\n",
      "36     0.332010\n",
      "37     1.011216\n",
      "38     1.260311\n",
      "39     1.330902\n",
      "40     1.373312\n",
      "41     1.509038\n",
      "42     1.596416\n",
      "43     1.602469\n",
      "44     1.602469\n",
      "45     1.602469\n",
      "46     1.536341\n",
      "47     1.536341\n",
      "48     1.482384\n",
      "49     1.512577\n",
      "50     1.549485\n",
      "51     1.580500\n",
      "52     1.578175\n",
      "53     1.643955\n",
      "54     1.643955\n",
      "55     1.643955\n",
      "56     1.643955\n",
      "57     1.643955\n",
      "58     1.643955\n",
      "59     1.643955\n",
      "60     1.643955\n",
      "\n",
      "[61 rows x 1 columns]\n"
     ]
    },
    {
     "name": "stderr",
     "output_type": "stream",
     "text": [
      "C:\\Users\\surya_5mk2dxf\\Anaconda3\\lib\\site-packages\\sklearn\\ensemble\\forest.py:246: FutureWarning: The default value of n_estimators will change from 10 in version 0.20 to 100 in 0.22.\n",
      "  \"10 in version 0.20 to 100 in 0.22.\", FutureWarning)\n",
      "C:\\Users\\surya_5mk2dxf\\Anaconda3\\lib\\site-packages\\sklearn\\ensemble\\forest.py:246: FutureWarning: The default value of n_estimators will change from 10 in version 0.20 to 100 in 0.22.\n",
      "  \"10 in version 0.20 to 100 in 0.22.\", FutureWarning)\n",
      "C:\\Users\\surya_5mk2dxf\\Anaconda3\\lib\\site-packages\\sklearn\\ensemble\\forest.py:246: FutureWarning: The default value of n_estimators will change from 10 in version 0.20 to 100 in 0.22.\n",
      "  \"10 in version 0.20 to 100 in 0.22.\", FutureWarning)\n",
      "C:\\Users\\surya_5mk2dxf\\Anaconda3\\lib\\site-packages\\sklearn\\ensemble\\forest.py:246: FutureWarning: The default value of n_estimators will change from 10 in version 0.20 to 100 in 0.22.\n",
      "  \"10 in version 0.20 to 100 in 0.22.\", FutureWarning)\n",
      "C:\\Users\\surya_5mk2dxf\\Anaconda3\\lib\\site-packages\\sklearn\\ensemble\\forest.py:246: FutureWarning: The default value of n_estimators will change from 10 in version 0.20 to 100 in 0.22.\n",
      "  \"10 in version 0.20 to 100 in 0.22.\", FutureWarning)\n",
      "C:\\Users\\surya_5mk2dxf\\Anaconda3\\lib\\site-packages\\sklearn\\ensemble\\forest.py:246: FutureWarning: The default value of n_estimators will change from 10 in version 0.20 to 100 in 0.22.\n",
      "  \"10 in version 0.20 to 100 in 0.22.\", FutureWarning)\n",
      "C:\\Users\\surya_5mk2dxf\\Anaconda3\\lib\\site-packages\\sklearn\\ensemble\\forest.py:246: FutureWarning: The default value of n_estimators will change from 10 in version 0.20 to 100 in 0.22.\n",
      "  \"10 in version 0.20 to 100 in 0.22.\", FutureWarning)\n",
      "C:\\Users\\surya_5mk2dxf\\Anaconda3\\lib\\site-packages\\sklearn\\ensemble\\forest.py:246: FutureWarning: The default value of n_estimators will change from 10 in version 0.20 to 100 in 0.22.\n",
      "  \"10 in version 0.20 to 100 in 0.22.\", FutureWarning)\n",
      "C:\\Users\\surya_5mk2dxf\\Anaconda3\\lib\\site-packages\\sklearn\\ensemble\\forest.py:246: FutureWarning: The default value of n_estimators will change from 10 in version 0.20 to 100 in 0.22.\n",
      "  \"10 in version 0.20 to 100 in 0.22.\", FutureWarning)\n",
      "C:\\Users\\surya_5mk2dxf\\Anaconda3\\lib\\site-packages\\sklearn\\ensemble\\forest.py:246: FutureWarning: The default value of n_estimators will change from 10 in version 0.20 to 100 in 0.22.\n",
      "  \"10 in version 0.20 to 100 in 0.22.\", FutureWarning)\n"
     ]
    },
    {
     "data": {
      "text/plain": [
       "GradientBoostingRegressor(alpha=0.9, criterion='friedman_mse', init=None,\n",
       "             learning_rate=0.1, loss='ls', max_depth=3, max_features=None,\n",
       "             max_leaf_nodes=100, min_impurity_decrease=0.0,\n",
       "             min_impurity_split=None, min_samples_leaf=1,\n",
       "             min_samples_split=2, min_weight_fraction_leaf=0.0,\n",
       "             n_estimators=100, n_iter_no_change=None, presort='auto',\n",
       "             random_state=0, subsample=1.0, tol=0.0001,\n",
       "             validation_fraction=0.1, verbose=0, warm_start=False)"
      ]
     },
     "execution_count": 7,
     "metadata": {},
     "output_type": "execute_result"
    }
   ],
   "source": [
    "model.predict(year[109:161], forcing[79:], CO2_x)\n",
    "\n",
    "mae_array = list()\n",
    "mae = list()\n",
    "for mln in [5, 25, 50, 75, 100, 150, 300, 500, 1000, 5000]:\n",
    "    #print(\"Max Leaf Nodes: \" + str(mln))\n",
    "    mae_array.append(model.validate(year[105:], fluxRefined[106:], mln))\n",
    "    #print(mae_array)\n",
    "    for i in mae_array:\n",
    "        mae.append(float(i))\n",
    "        \n",
    "m = list()\n",
    "m = mae\n",
    "#print(m)\n",
    "\n",
    "candidate_leaf_nodes = [5, 25, 50, 75, 100, 150, 300, 500, 1000, 5000]\n",
    "#print(checkFit.iteration(m))\n",
    "index = checkFit.iteration(m)\n",
    "#print(candidate_leaf_nodes[index])\n",
    "#print(\" \")\n",
    "#print(\"Max Leaf Node Size: \" + str(best_tree_size))\n",
    "\n",
    "fin_model = GradientBoostingRegressor(max_leaf_nodes = 100, random_state = 0)\n",
    "fin_model.fit(year[109:161], forcing[79:])\n",
    "#print(valpred)"
   ]
  },
  {
   "cell_type": "code",
   "execution_count": 8,
   "metadata": {},
   "outputs": [
    {
     "ename": "NameError",
     "evalue": "name 'y2_pred' is not defined",
     "output_type": "error",
     "traceback": [
      "\u001b[1;31m---------------------------------------------------------------------------\u001b[0m",
      "\u001b[1;31mNameError\u001b[0m                                 Traceback (most recent call last)",
      "\u001b[1;32m<ipython-input-8-33feb1cbca53>\u001b[0m in \u001b[0;36m<module>\u001b[1;34m\u001b[0m\n\u001b[0;32m      5\u001b[0m \u001b[0mreg1\u001b[0m\u001b[1;33m.\u001b[0m\u001b[0mscore\u001b[0m\u001b[1;33m(\u001b[0m\u001b[0mCO2_x\u001b[0m\u001b[1;33m,\u001b[0m \u001b[0mvalid_pred\u001b[0m\u001b[1;33m)\u001b[0m\u001b[1;33m\u001b[0m\u001b[1;33m\u001b[0m\u001b[0m\n\u001b[0;32m      6\u001b[0m \u001b[1;31m#print(y_pred)\u001b[0m\u001b[1;33m\u001b[0m\u001b[1;33m\u001b[0m\u001b[1;33m\u001b[0m\u001b[0m\n\u001b[1;32m----> 7\u001b[1;33m \u001b[0mprint\u001b[0m\u001b[1;33m(\u001b[0m\u001b[0my2_pred\u001b[0m\u001b[1;33m[\u001b[0m\u001b[1;36m30\u001b[0m\u001b[1;33m]\u001b[0m\u001b[1;33m)\u001b[0m\u001b[1;33m\u001b[0m\u001b[1;33m\u001b[0m\u001b[0m\n\u001b[0m",
      "\u001b[1;31mNameError\u001b[0m: name 'y2_pred' is not defined"
     ]
    }
   ],
   "source": [
    "from sklearn.linear_model import LinearRegression\n",
    "from sklearn.metrics import mean_squared_error\n",
    "reg1 = LinearRegression().fit(CO2_x, valid_pred)\n",
    "y_pred = reg1.predict(CO2_x)\n",
    "reg1.score(CO2_x, valid_pred)\n",
    "#print(y_pred)\n",
    "print(y2_pred[30])"
   ]
  },
  {
   "cell_type": "code",
   "execution_count": 44,
   "metadata": {},
   "outputs": [
    {
     "name": "stdout",
     "output_type": "stream",
     "text": [
      "          entropy          mole   atm_entropy         Year\n",
      "count  271.000000  2.710000e+02  2.710000e+02   271.000000\n",
      "mean    13.913352  1.603026e+16  2.229742e+17  1885.000000\n",
      "std      0.002443  1.682362e+15  2.351712e+16    78.375166\n",
      "min     13.908227  1.460000e+16  2.030000e+17  1750.000000\n",
      "25%     13.913301  1.490000e+16  2.070000e+17  1817.500000\n",
      "50%     13.913902  1.540000e+16  2.140000e+17  1885.000000\n",
      "75%     13.913902  1.635000e+16  2.280000e+17  1952.500000\n",
      "max     13.922877  2.170000e+16  3.020000e+17  2020.000000\n"
     ]
    },
    {
     "data": {
      "image/png": "[encoded data removed]",
      "text/plain": [
       "<Figure size 432x288 with 2 Axes>"
      ]
     },
     "metadata": {
      "needs_background": "light"
     },
     "output_type": "display_data"
    }
   ],
   "source": [
    "# Observation of Relation between CO2 entropy and PDI\n",
    "from scipy.interpolate import spline\n",
    "valpred = fin_model.predict(CO2_x)\n",
    "pd.DataFrame(valpred).to_csv(\"./forcePred.csv\")\n",
    "\n",
    "ent = 'Climate Change Analysis/Datasets/Stage 1/Gas Concentration/New Datasets/entropyFinal.csv'\n",
    "ent = pd.read_csv(ent)\n",
    "#print(GHGcsv)\n",
    "print(ent.describe())\n",
    "\n",
    "e = ent.atm_entropy\n",
    "\n",
    "year = ent.Year\n",
    "#time = SSTcsv.time\n",
    "#features = ['Year', 'time']\n",
    "#SST_X = SSTcsv[features]\n",
    "\n",
    "\n",
    "reg2 = LinearRegression().fit(CO2_x, valpred)\n",
    "y2_pred = reg2.predict(CO2_x)\n",
    "reg1.score(CO2_x, valpred)\n",
    "\n",
    "st1 = np.std(valid_pred)\n",
    "st2 = np.std(valpred)\n",
    "\n",
    "def expMovAvg(values, window):\n",
    "    weights = np.exp(np.linspace(-1.,0.,window))\n",
    "    weights /= weights.sum()\n",
    "    \n",
    "    a = np.convolve(values,weights)[:len(values)]\n",
    "    a[:window]=a[window]\n",
    "    return a\n",
    "\n",
    "def movAvg(values, window):\n",
    "    weights = np.repeat(1.0, window) /window\n",
    "    smas = np.convolve(values,weights,'valid')\n",
    "    return smas\n",
    "\n",
    "y_simr = movAvg(valid_pred, 1)\n",
    "y_sim = movAvg(valid_pred, 3)\n",
    "#print(len(y_sim))\n",
    "\n",
    "'''y_sm = list()\n",
    "for i in range(191):\n",
    "    sum = y_exp[i] + y_sim[i]\n",
    "    avg = sum/2\n",
    "    y_sm.append(avg)'''\n",
    "\n",
    "x_smooth = np.linspace(CO2_x.min(), CO2_x.max(), 200)\n",
    "#x_smoothTime = np.linspace(time[:61].min(), time[:61].max(), 200)\n",
    "rad_smooth = expMovAvg(valpred, 10)#spline(CO2_x, valpred, x_smooth)\n",
    "net_smooth = expMovAvg(valid_pred, 10)#spline(CO2_x, valid_pred, x_smooth)\n",
    "\n",
    "data = np.array([y_simr, rad_smooth])\n",
    "y_smr = np.average(data, axis=0)\n",
    "\n",
    "fig, ax1 = plt.subplots()\n",
    "ax2 = ax1.twinx()\n",
    "\n",
    "#line1, = ax1.plot(year[209:271], e[209:271], label=\"Atmospheric Entropy due to CO2 Emissions (ΔS)\", color=\"r\")\n",
    "#line2, = ax2.plot(CO2_x, valid_pred, label=\"Net Heat Flux into Ocean\", color=\"r\")\n",
    "#line3, = ax2.plot(fyear[79:], forcing[79:], label=\"Net Radiative Forcing\", color=\"r\")\n",
    "line4, = ax2.plot(CO2_x, valid_pred, marker='o', label=\"Net Heat Flux into Ocean\", color=\"r\")\n",
    "#line4, = ax2.plot(CO2_x, valpred, marker='o', label=\"Radiative Forcing\", color=\"r\")\n",
    "line7, = ax2.plot(CO2_x[:59], y_sim, label=\"Simpled Moving Average\", color=\"k\")\n",
    "line5, = ax2.plot(CO2_x, rad_smooth, label=\"Exponmential Smoothed\", color=\"b\")\n",
    "line6, = ax2.plot(CO2_x, y_smr, label=\"Mean Smoothed\", color=\"y\")\n",
    "#line6, = ax2.plot(CO2_x, rad_smooth, label=\"Rad Smooth\", color=\"k\")\n",
    "line8, = ax2.plot(CO2_x, y_pred, label=\"Linear Regression\", color=\"g\")\n",
    "#line8, = ax2.plot(CO2_x, y2_pred, label=\"Linear Regression\", color=\"g\")\n",
    "\n",
    "ax2.errorbar(1990, 3.920355904485703, yerr=st1, color=\"m\")\n",
    "#ax2.errorbar(1990, 0.8280023791190985, yerr=st2, color=\"c\")\n",
    "\n",
    "curves = [line4, line7, line5, line6, line8]\n",
    "\n",
    "ax1.legend(curves, [curve.get_label() for curve in curves], loc='upper center', bbox_to_anchor=(0.5, -0.2), shadow=True, ncol=2)\n",
    "\n",
    "plt.title('Radiative Forcing of Heat into Lower Troposphere')\n",
    "#plt.ylabel('Amount of Carbon Dioxide in ppm')\n",
    "ax1.set_xlabel('Years since 1958', color='b')\n",
    "ax1.set_ylabel('Climate Forcing (W/m^2)', color='r')\n",
    "ax1.tick_params(axis='y', colors='r')\n",
    "#ax2.set_ylabel('Climate Forcing (W/m^2)', color='g')\n",
    "\n",
    "ax2.tick_params(axis='y', colors='g')\n",
    "ax1.grid()\n",
    "#plt.legend(['Average Temperature Variation', 'Carbon Emissions'])\n",
    "plt.show()\n",
    "\n"
   ]
  },
  {
   "cell_type": "code",
   "execution_count": null,
   "metadata": {},
   "outputs": [],
   "source": []
  },
  {
   "cell_type": "code",
   "execution_count": 28,
   "metadata": {},
   "outputs": [
    {
     "name": "stdout",
     "output_type": "stream",
     "text": [
      "Spearman correlation (most favorable): 0.147 *\n",
      "Spearman correlation (most favorable): 0.228 *\n"
     ]
    }
   ],
   "source": [
    "from scipy.stats import kendalltau\n",
    "from scipy.stats import spearmanr\n",
    "corrSpear, _ = spearmanr(valid_pred, e[209:270])\n",
    "corrKendal, _ = kendalltau(valid_pred, e[209:270])\n",
    "corrKend, _ = kendalltau(valpred, valid_pred)\n",
    "corrSpe, _ = spearmanr(valpred, valid_pred)\n",
    "\n",
    "corrSpear2, _ = spearmanr(valpred, valid_pred)\n",
    "corrSpear4, _ = spearmanr(valpred, entropy[:61])\n",
    "#corrSpear3, _ = spearmanr(y_pred, y2_pred)\n",
    "corrKend, _ = kendalltau(valpred, valid_pred)\n",
    "\n",
    "print('Spearman correlation (most favorable): %.3f' % corrKendal + ' *')\n",
    "print('Spearman correlation (most favorable): %.3f' % corrSpear + ' *')\n"
   ]
  },
  {
   "cell_type": "code",
   "execution_count": 27,
   "metadata": {},
   "outputs": [
    {
     "name": "stdout",
     "output_type": "stream",
     "text": [
      "0.014563500816782416\n",
      "0.03241500185747389\n"
     ]
    }
   ],
   "source": [
    "print((y_pred[60] - y_pred[0])/60)\n",
    "print((y2_pred[60] - y2_pred[0])/60)"
   ]
  },
  {
   "cell_type": "code",
   "execution_count": 11,
   "metadata": {},
   "outputs": [
    {
     "data": {
      "text/plain": [
       "3.483450879982229"
      ]
     },
     "execution_count": 11,
     "metadata": {},
     "output_type": "execute_result"
    }
   ],
   "source": [
    "y_pred[0]"
   ]
  },
  {
   "cell_type": "code",
   "execution_count": 88,
   "metadata": {},
   "outputs": [
    {
     "data": {
      "text/plain": [
       "0.004180768243488685"
      ]
     },
     "execution_count": 88,
     "metadata": {},
     "output_type": "execute_result"
    }
   ],
   "source": [
    "((y_pred[60] - y_pred[0])/y_pred[0])/60"
   ]
  },
  {
   "cell_type": "code",
   "execution_count": 80,
   "metadata": {},
   "outputs": [
    {
     "data": {
      "text/plain": [
       "0.004180768243489246"
      ]
     },
     "execution_count": 80,
     "metadata": {},
     "output_type": "execute_result"
    }
   ],
   "source": [
    "0.01456350081678437/y_pred[0]"
   ]
  },
  {
   "cell_type": "code",
   "execution_count": 89,
   "metadata": {},
   "outputs": [
    {
     "data": {
      "text/plain": [
       "-0.22440652988892554"
      ]
     },
     "execution_count": 89,
     "metadata": {},
     "output_type": "execute_result"
    }
   ],
   "source": [
    "((y2_pred[60]-y2_pred[0])/y2_pred[0])/60"
   ]
  },
  {
   "cell_type": "code",
   "execution_count": 92,
   "metadata": {},
   "outputs": [],
   "source": [
    "vMax = 'vMax.csv'\n",
    "vMax = pd.read_csv(vMax)\n",
    "vMax = vMax.iloc[:,1]"
   ]
  },
  {
   "cell_type": "code",
   "execution_count": 96,
   "metadata": {},
   "outputs": [
    {
     "name": "stderr",
     "output_type": "stream",
     "text": [
      "C:\\Users\\surya_5mk2dxf\\Anaconda3\\lib\\site-packages\\matplotlib\\legend.py:449: UserWarning: The handle <matplotlib.lines.Line2D object at 0x00000194AC79BF28> has a label of '_line1' which cannot be automatically added to the legend.\n",
      "  'legend.'.format(handle, label))\n"
     ]
    },
    {
     "data": {
      "image/png": "[encoded data removed]",
      "text/plain": [
       "<Figure size 432x288 with 2 Axes>"
      ]
     },
     "metadata": {
      "needs_background": "light"
     },
     "output_type": "display_data"
    }
   ],
   "source": [
    "fig, ax1 = plt.subplots()\n",
    "ax2 = ax1.twinx()\n",
    "\n",
    "line1, = ax1.plot(CO2_x, valid_pred, label=\"Net Heat Flux into Ocean\", color=\"y\")\n",
    "#line2, = ax2.plot(year[105:], fluxRefined[106:], label=\"Net Heat Flux into Ocean\", color=\"g\")\n",
    "#line3, = ax2.plot(fyear[79:], forcing[79:], label=\"Net Radiative Forcing\", color=\"y\")\n",
    "line6, = ax1.plot(CO2_x, y_pred, color=\"y\")\n",
    "line7, = ax2.plot(CO2_x, vMax[107:], label=\"Potential Intensity (V Max)\", color=\"b\")\n",
    "\n",
    "\n",
    "curves = [line1, line6, line7]\n",
    "\n",
    "ax1.legend(curves, [curve.get_label() for curve in curves])\n",
    "\n",
    "plt.title('Relationship Between Sea Surface Flux and Potential Intenisty')\n",
    "#plt.ylabel('Amount of Carbon Dioxide in ppm')\n",
    "ax1.set_xlabel('Years since 1958', color='b')\n",
    "ax1.set_ylabel('Net Heat Flux (W/m^2)', color='r')\n",
    "ax1.tick_params(axis='y', colors='r')\n",
    "ax2.set_ylabel('Potential Intensity (km/h)', color='b')\n",
    "ax2.tick_params(axis='y', colors='g')\n",
    "ax1.grid()\n",
    "#plt.legend(['Average Temperature Variation', 'Carbon Emissions'])\n",
    "plt.show()"
   ]
  },
  {
   "cell_type": "code",
   "execution_count": 98,
   "metadata": {},
   "outputs": [
    {
     "name": "stdout",
     "output_type": "stream",
     "text": [
      "0.20392293219078794\n"
     ]
    }
   ],
   "source": [
    "corrSpear, _ = spearmanr(valid_pred, vMax[107:])\n",
    "print(corrSpear)"
   ]
  },
  {
   "cell_type": "code",
   "execution_count": null,
   "metadata": {},
   "outputs": [],
   "source": []
  }
 ],
 "metadata": {
  "kernelspec": {
   "display_name": "Python 3",
   "language": "python",
   "name": "python3"
  },
  "language_info": {
   "codemirror_mode": {
    "name": "ipython",
    "version": 3
   },
   "file_extension": ".py",
   "mimetype": "text/x-python",
   "name": "python",
   "nbconvert_exporter": "python",
   "pygments_lexer": "ipython3",
   "version": "3.6.7"
  }
 },
 "nbformat": 4,
 "nbformat_minor": 2
}
